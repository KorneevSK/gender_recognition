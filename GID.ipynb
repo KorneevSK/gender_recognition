{
 "cells": [
  {
   "cell_type": "markdown",
   "metadata": {},
   "source": [
    "## Для теста модели запустить ЭТУ ячейку"
   ]
  },
  {
   "cell_type": "code",
   "execution_count": 1,
   "metadata": {},
   "outputs": [],
   "source": [
    "from sklearn.preprocessing import MinMaxScaler\n",
    "import numpy as np\n",
    "import librosa\n",
    "import IPython.display as ipd\n",
    "import matplotlib.pyplot as plt"
   ]
  },
  {
   "cell_type": "markdown",
   "metadata": {},
   "source": [
    "# Извлечение признаков"
   ]
  },
  {
   "cell_type": "markdown",
   "metadata": {},
   "source": [
    "## Для теста модели запустить ЭТУ ячейку"
   ]
  },
  {
   "cell_type": "code",
   "execution_count": 2,
   "metadata": {},
   "outputs": [],
   "source": [
    "import glob\n",
    "import os\n",
    "import pandas as pd\n",
    "import numpy as np\n",
    "import shutil\n",
    "import librosa\n",
    "from tqdm import tqdm\n",
    "\n",
    "\n",
    "def extract_feature(file_name, **kwargs):\n",
    "    file_name = os.fspath(file_name)\n",
    "    mfcc = kwargs.get(\"mfcc\")\n",
    "    chroma = kwargs.get(\"chroma\")\n",
    "    mel = kwargs.get(\"mel\")\n",
    "    contrast = kwargs.get(\"contrast\")\n",
    "    tonnetz = kwargs.get(\"tonnetz\")\n",
    "    X, sample_rate = librosa.load(file_name)\n",
    "    if chroma or contrast:\n",
    "        stft = np.abs(librosa.stft(X))\n",
    "    result = np.array([])\n",
    "    if mfcc:\n",
    "        mfccs = np.mean(librosa.feature.mfcc(y=X, sr=sample_rate, n_mfcc=40).T, axis=0)\n",
    "        result = np.hstack((result, mfccs))\n",
    "    if chroma:\n",
    "        chroma = np.mean(librosa.feature.chroma_stft(S=stft, sr=sample_rate).T,axis=0)\n",
    "        result = np.hstack((result, chroma))\n",
    "    if mel:\n",
    "        mel = np.mean(librosa.feature.melspectrogram(X, sr=sample_rate).T,axis=0)\n",
    "        result = np.hstack((result, mel))\n",
    "    if contrast:\n",
    "        contrast = np.mean(librosa.feature.spectral_contrast(S=stft, sr=sample_rate).T,axis=0)\n",
    "        result = np.hstack((result, contrast))\n",
    "    if tonnetz:\n",
    "        tonnetz = np.mean(librosa.feature.tonnetz(y=librosa.effects.harmonic(X), sr=sample_rate).T,axis=0)\n",
    "        result = np.hstack((result, tonnetz))\n",
    "    return result"
   ]
  },
  {
   "cell_type": "markdown",
   "metadata": {},
   "source": [
    "# Подготовка данных"
   ]
  },
  {
   "cell_type": "code",
   "execution_count": 3,
   "metadata": {},
   "outputs": [
    {
     "data": {
      "text/html": [
       "<div>\n",
       "<style scoped>\n",
       "    .dataframe tbody tr th:only-of-type {\n",
       "        vertical-align: middle;\n",
       "    }\n",
       "\n",
       "    .dataframe tbody tr th {\n",
       "        vertical-align: top;\n",
       "    }\n",
       "\n",
       "    .dataframe thead th {\n",
       "        text-align: right;\n",
       "    }\n",
       "</style>\n",
       "<table border=\"1\" class=\"dataframe\">\n",
       "  <thead>\n",
       "    <tr style=\"text-align: right;\">\n",
       "      <th></th>\n",
       "      <th>File</th>\n",
       "      <th>Gender</th>\n",
       "    </tr>\n",
       "  </thead>\n",
       "  <tbody>\n",
       "    <tr>\n",
       "      <th>0</th>\n",
       "      <td>wav_data/A30000A1.wav</td>\n",
       "      <td>f</td>\n",
       "    </tr>\n",
       "    <tr>\n",
       "      <th>1</th>\n",
       "      <td>wav_data/A30000A1.wav2</td>\n",
       "      <td>f</td>\n",
       "    </tr>\n",
       "    <tr>\n",
       "      <th>2</th>\n",
       "      <td>wav_data/A30000A2.wav</td>\n",
       "      <td>f</td>\n",
       "    </tr>\n",
       "    <tr>\n",
       "      <th>3</th>\n",
       "      <td>wav_data/A30000A3.wav</td>\n",
       "      <td>f</td>\n",
       "    </tr>\n",
       "    <tr>\n",
       "      <th>4</th>\n",
       "      <td>wav_data/A30000A4.wav</td>\n",
       "      <td>f</td>\n",
       "    </tr>\n",
       "  </tbody>\n",
       "</table>\n",
       "</div>"
      ],
      "text/plain": [
       "                     File Gender\n",
       "0   wav_data/A30000A1.wav      f\n",
       "1  wav_data/A30000A1.wav2      f\n",
       "2   wav_data/A30000A2.wav      f\n",
       "3   wav_data/A30000A3.wav      f\n",
       "4   wav_data/A30000A4.wav      f"
      ]
     },
     "execution_count": 3,
     "metadata": {},
     "output_type": "execute_result"
    }
   ],
   "source": [
    "with open('f.txt', 'r') as f:\n",
    "    content = f.readlines()\n",
    "\n",
    "files = []\n",
    "\n",
    "for i in content:\n",
    "    i = 'wav_data/' + i\n",
    "    files.append(i.strip('\\n'))\n",
    "    \n",
    "fem = pd.DataFrame()\n",
    "fem['File'] = files\n",
    "fem['Gender'] = 'f'\n",
    "fem.head()"
   ]
  },
  {
   "cell_type": "code",
   "execution_count": 4,
   "metadata": {},
   "outputs": [
    {
     "data": {
      "text/html": [
       "<div>\n",
       "<style scoped>\n",
       "    .dataframe tbody tr th:only-of-type {\n",
       "        vertical-align: middle;\n",
       "    }\n",
       "\n",
       "    .dataframe tbody tr th {\n",
       "        vertical-align: top;\n",
       "    }\n",
       "\n",
       "    .dataframe thead th {\n",
       "        text-align: right;\n",
       "    }\n",
       "</style>\n",
       "<table border=\"1\" class=\"dataframe\">\n",
       "  <thead>\n",
       "    <tr style=\"text-align: right;\">\n",
       "      <th></th>\n",
       "      <th>File</th>\n",
       "      <th>Gender</th>\n",
       "    </tr>\n",
       "  </thead>\n",
       "  <tbody>\n",
       "    <tr>\n",
       "      <th>0</th>\n",
       "      <td>wav_data/A30001A1.wav</td>\n",
       "      <td>m</td>\n",
       "    </tr>\n",
       "    <tr>\n",
       "      <th>1</th>\n",
       "      <td>wav_data/A30001A2.wav</td>\n",
       "      <td>m</td>\n",
       "    </tr>\n",
       "    <tr>\n",
       "      <th>2</th>\n",
       "      <td>wav_data/A30001A3.wav</td>\n",
       "      <td>m</td>\n",
       "    </tr>\n",
       "    <tr>\n",
       "      <th>3</th>\n",
       "      <td>wav_data/A30001A4.wav</td>\n",
       "      <td>m</td>\n",
       "    </tr>\n",
       "    <tr>\n",
       "      <th>4</th>\n",
       "      <td>wav_data/A30001A5.wav</td>\n",
       "      <td>m</td>\n",
       "    </tr>\n",
       "  </tbody>\n",
       "</table>\n",
       "</div>"
      ],
      "text/plain": [
       "                    File Gender\n",
       "0  wav_data/A30001A1.wav      m\n",
       "1  wav_data/A30001A2.wav      m\n",
       "2  wav_data/A30001A3.wav      m\n",
       "3  wav_data/A30001A4.wav      m\n",
       "4  wav_data/A30001A5.wav      m"
      ]
     },
     "execution_count": 4,
     "metadata": {},
     "output_type": "execute_result"
    }
   ],
   "source": [
    "with open('m.txt', 'r') as f:\n",
    "    content = f.readlines()\n",
    "\n",
    "files = []\n",
    "\n",
    "for i in content:\n",
    "    i = 'wav_data/' + i\n",
    "    files.append(i.strip('\\n'))\n",
    "    \n",
    "male = pd.DataFrame()\n",
    "male['File'] = files\n",
    "male['Gender'] = 'm'\n",
    "male.head()"
   ]
  },
  {
   "cell_type": "code",
   "execution_count": 5,
   "metadata": {},
   "outputs": [],
   "source": [
    "frames = [fem, male]\n",
    "df = pd.concat(frames, sort=True)\n",
    "df.reset_index(drop=True, inplace=True)\n",
    "df.to_csv('data.csv')"
   ]
  },
  {
   "cell_type": "code",
   "execution_count": 6,
   "metadata": {},
   "outputs": [
    {
     "name": "stdout",
     "output_type": "stream",
     "text": [
      "[+] Preprocessing data.csv\n"
     ]
    }
   ],
   "source": [
    "csv_file = 'data.csv'\n",
    "\n",
    "print(\"[+] Preprocessing\", csv_file)\n",
    "df = pd.read_csv(csv_file)"
   ]
  },
  {
   "cell_type": "code",
   "execution_count": 7,
   "metadata": {},
   "outputs": [],
   "source": [
    "folder_name = 'wav_data'\n",
    "audio_files = glob.glob(f\"{folder_name}/*\")\n",
    "# print(audio_files)\n",
    "all_audio_filenames = set(df[\"File\"])"
   ]
  },
  {
   "cell_type": "code",
   "execution_count": 10,
   "metadata": {},
   "outputs": [
    {
     "name": "stderr",
     "output_type": "stream",
     "text": [
      "\r",
      "Extracting features of wav_data:   0%|                                                         | 0/205 [00:00<?, ?it/s]"
     ]
    },
    {
     "name": "stdout",
     "output_type": "stream",
     "text": [
      "('wav_data', 'A30000A1.wav')\n",
      "audio_filename: wav_data/A30000A1.wav\n",
      "Copying wav_data/A30000A1.wav ...\n",
      "prep_data/wav_data/A30000A1.wav\n",
      "True\n"
     ]
    },
    {
     "name": "stderr",
     "output_type": "stream",
     "text": [
      "Extracting features of wav_data:   1%|▋                                                | 3/205 [00:00<01:13,  2.75it/s]"
     ]
    },
    {
     "name": "stdout",
     "output_type": "stream",
     "text": [
      "prep_data/wav_data/A30000A1\n",
      "('wav_data', 'A30000A1.wav2')\n",
      "audio_filename: wav_data/A30000A1.wav2\n",
      "Copying wav_data/A30000A1.wav2 ...\n",
      "prep_data/wav_data/A30000A1.wav2\n",
      "True\n",
      "prep_data/wav_data/A30000A1\n",
      "('wav_data', 'A30000A2.wav')\n",
      "audio_filename: wav_data/A30000A2.wav\n",
      "Copying wav_data/A30000A2.wav ...\n",
      "prep_data/wav_data/A30000A2.wav\n",
      "True\n",
      "prep_data/wav_data/A30000A2\n",
      "('wav_data', 'A30000A3.wav')\n",
      "audio_filename: wav_data/A30000A3.wav\n",
      "Copying wav_data/A30000A3.wav ...\n",
      "prep_data/wav_data/A30000A3.wav\n",
      "True\n",
      "prep_data/wav_data/A30000A3"
     ]
    },
    {
     "name": "stderr",
     "output_type": "stream",
     "text": [
      "\r",
      "Extracting features of wav_data:   2%|█▏                                               | 5/205 [00:00<00:55,  3.60it/s]"
     ]
    },
    {
     "name": "stdout",
     "output_type": "stream",
     "text": [
      "\n",
      "('wav_data', 'A30000A4.wav')\n",
      "audio_filename: wav_data/A30000A4.wav\n",
      "Copying wav_data/A30000A4.wav ...\n",
      "prep_data/wav_data/A30000A4.wav\n",
      "True\n",
      "prep_data/wav_data/A30000A4\n",
      "('wav_data', 'A30000A5.wav')\n",
      "audio_filename: wav_data/A30000A5.wav\n",
      "Copying wav_data/A30000A5.wav ...\n",
      "prep_data/wav_data/A30000A5.wav\n",
      "True\n",
      "prep_data/wav_data/A30000A5\n",
      "('wav_data', 'A30000A6.wav')\n",
      "audio_filename: wav_data/A30000A6.wav\n",
      "Copying wav_data/A30000A6.wav ...\n",
      "prep_data/wav_data/A30000A6.wav\n",
      "True\n"
     ]
    },
    {
     "name": "stderr",
     "output_type": "stream",
     "text": [
      "Extracting features of wav_data:   4%|█▉                                               | 8/205 [00:01<00:38,  5.15it/s]"
     ]
    },
    {
     "name": "stdout",
     "output_type": "stream",
     "text": [
      "prep_data/wav_data/A30000A6\n",
      "('wav_data', 'A30000B1.wav')\n",
      "audio_filename: wav_data/A30000B1.wav\n",
      "Copying wav_data/A30000B1.wav ...\n",
      "prep_data/wav_data/A30000B1.wav\n",
      "True\n",
      "prep_data/wav_data/A30000B1\n",
      "('wav_data', 'A30000C1.wav')\n",
      "audio_filename: wav_data/A30000C1.wav\n",
      "Copying wav_data/A30000C1.wav ...\n",
      "prep_data/wav_data/A30000C1.wav\n",
      "True\n"
     ]
    },
    {
     "name": "stderr",
     "output_type": "stream",
     "text": [
      "Extracting features of wav_data:   5%|██▎                                             | 10/205 [00:01<00:29,  6.67it/s]"
     ]
    },
    {
     "name": "stdout",
     "output_type": "stream",
     "text": [
      "prep_data/wav_data/A30000C1\n",
      "('wav_data', 'A30000C2.wav')\n",
      "audio_filename: wav_data/A30000C2.wav\n",
      "Copying wav_data/A30000C2.wav ...\n",
      "prep_data/wav_data/A30000C2.wav\n",
      "True\n",
      "prep_data/wav_data/A30000C2\n",
      "('wav_data', 'A30000C3.wav')\n",
      "audio_filename: wav_data/A30000C3.wav\n",
      "Copying wav_data/A30000C3.wav ...\n",
      "prep_data/wav_data/A30000C3.wav\n",
      "True\n"
     ]
    },
    {
     "name": "stderr",
     "output_type": "stream",
     "text": [
      "Extracting features of wav_data:   6%|██▊                                             | 12/205 [00:01<00:28,  6.76it/s]"
     ]
    },
    {
     "name": "stdout",
     "output_type": "stream",
     "text": [
      "prep_data/wav_data/A30000C3\n",
      "('wav_data', 'A30000C4.wav')\n",
      "audio_filename: wav_data/A30000C4.wav\n",
      "Copying wav_data/A30000C4.wav ...\n",
      "prep_data/wav_data/A30000C4.wav\n",
      "True\n",
      "prep_data/wav_data/A30000C4\n",
      "('wav_data', 'A30000D1.wav')\n",
      "audio_filename: wav_data/A30000D1.wav\n",
      "Copying wav_data/A30000D1.wav ...\n",
      "prep_data/wav_data/A30000D1.wav\n",
      "True\n"
     ]
    },
    {
     "name": "stderr",
     "output_type": "stream",
     "text": [
      "Extracting features of wav_data:   7%|███▎                                            | 14/205 [00:01<00:26,  7.08it/s]"
     ]
    },
    {
     "name": "stdout",
     "output_type": "stream",
     "text": [
      "prep_data/wav_data/A30000D1\n",
      "('wav_data', 'A30000D2.wav')\n",
      "audio_filename: wav_data/A30000D2.wav\n",
      "Copying wav_data/A30000D2.wav ...\n",
      "prep_data/wav_data/A30000D2.wav\n",
      "True\n",
      "prep_data/wav_data/A30000D2\n",
      "('wav_data', 'A30000D3.wav')\n",
      "audio_filename: wav_data/A30000D3.wav\n",
      "Copying wav_data/A30000D3.wav ...\n",
      "prep_data/wav_data/A30000D3.wav\n",
      "True\n",
      "prep_data/wav_data/A30000D3"
     ]
    },
    {
     "name": "stderr",
     "output_type": "stream",
     "text": [
      "\r",
      "Extracting features of wav_data:   8%|███▋                                            | 16/205 [00:02<00:23,  8.02it/s]"
     ]
    },
    {
     "name": "stdout",
     "output_type": "stream",
     "text": [
      "\n",
      "('wav_data', 'A30000E1.wav')\n",
      "audio_filename: wav_data/A30000E1.wav\n",
      "Copying wav_data/A30000E1.wav ...\n",
      "prep_data/wav_data/A30000E1.wav\n",
      "True\n",
      "prep_data/wav_data/A30000E1\n",
      "('wav_data', 'A30000I1.wav')\n",
      "audio_filename: wav_data/A30000I1.wav\n",
      "Copying wav_data/A30000I1.wav ...\n",
      "prep_data/wav_data/A30000I1.wav\n",
      "True\n",
      "prep_data/wav_data/A30000I1"
     ]
    },
    {
     "name": "stderr",
     "output_type": "stream",
     "text": [
      "\r",
      "Extracting features of wav_data:   9%|████▏                                           | 18/205 [00:02<00:22,  8.17it/s]"
     ]
    },
    {
     "name": "stdout",
     "output_type": "stream",
     "text": [
      "\n",
      "('wav_data', 'A30000L1.wav')\n",
      "audio_filename: wav_data/A30000L1.wav\n",
      "Copying wav_data/A30000L1.wav ...\n",
      "prep_data/wav_data/A30000L1.wav\n",
      "True\n",
      "prep_data/wav_data/A30000L1\n",
      "('wav_data', 'A30000L2.wav')\n",
      "audio_filename: wav_data/A30000L2.wav\n",
      "Copying wav_data/A30000L2.wav ...\n",
      "prep_data/wav_data/A30000L2.wav\n",
      "True\n"
     ]
    },
    {
     "name": "stderr",
     "output_type": "stream",
     "text": [
      "\r",
      "Extracting features of wav_data:   9%|████▍                                           | 19/205 [00:02<00:27,  6.86it/s]"
     ]
    },
    {
     "name": "stdout",
     "output_type": "stream",
     "text": [
      "prep_data/wav_data/A30000L2\n",
      "('wav_data', 'A30000L3.wav')\n",
      "audio_filename: wav_data/A30000L3.wav\n",
      "Copying wav_data/A30000L3.wav ...\n",
      "prep_data/wav_data/A30000L3.wav\n",
      "True\n",
      "prep_data/wav_data/A30000L3"
     ]
    },
    {
     "name": "stderr",
     "output_type": "stream",
     "text": [
      "Extracting features of wav_data:  10%|████▉                                           | 21/205 [00:02<00:28,  6.51it/s]"
     ]
    },
    {
     "name": "stdout",
     "output_type": "stream",
     "text": [
      "\n",
      "('wav_data', 'A30000M1.wav')\n",
      "audio_filename: wav_data/A30000M1.wav\n",
      "Copying wav_data/A30000M1.wav ...\n",
      "prep_data/wav_data/A30000M1.wav\n",
      "True\n",
      "prep_data/wav_data/A30000M1\n",
      "('wav_data', 'A30000M2.wav')\n",
      "audio_filename: wav_data/A30000M2.wav\n",
      "Copying wav_data/A30000M2.wav ...\n",
      "prep_data/wav_data/A30000M2.wav\n",
      "True\n"
     ]
    },
    {
     "name": "stderr",
     "output_type": "stream",
     "text": [
      "Extracting features of wav_data:  11%|█████▍                                          | 23/205 [00:03<00:24,  7.37it/s]"
     ]
    },
    {
     "name": "stdout",
     "output_type": "stream",
     "text": [
      "prep_data/wav_data/A30000M2\n",
      "('wav_data', 'A30000N1.wav')\n",
      "audio_filename: wav_data/A30000N1.wav\n",
      "Copying wav_data/A30000N1.wav ...\n",
      "prep_data/wav_data/A30000N1.wav\n",
      "True\n",
      "prep_data/wav_data/A30000N1\n",
      "('wav_data', 'A30000O1.wav')\n",
      "audio_filename: wav_data/A30000O1.wav\n",
      "Copying wav_data/A30000O1.wav ...\n",
      "prep_data/wav_data/A30000O1.wav\n",
      "True\n",
      "prep_data/wav_data/A30000O1\n",
      "('wav_data', 'A30000O2.wav')\n",
      "audio_filename: wav_data/A30000O2.wav\n",
      "Copying wav_data/A30000O2.wav ...\n",
      "prep_data/wav_data/A30000O2.wav\n",
      "True\n"
     ]
    },
    {
     "name": "stderr",
     "output_type": "stream",
     "text": [
      "\r",
      "Extracting features of wav_data:  12%|█████▊                                          | 25/205 [00:03<00:20,  8.75it/s]"
     ]
    },
    {
     "name": "stdout",
     "output_type": "stream",
     "text": [
      "prep_data/wav_data/A30000O2\n",
      "('wav_data', 'A30000O3.wav')\n",
      "audio_filename: wav_data/A30000O3.wav\n",
      "Copying wav_data/A30000O3.wav ...\n",
      "prep_data/wav_data/A30000O3.wav\n",
      "True\n",
      "prep_data/wav_data/A30000O3\n",
      "('wav_data', 'A30000O5.wav')\n",
      "audio_filename: wav_data/A30000O5.wav\n",
      "Copying wav_data/A30000O5.wav ...\n",
      "prep_data/wav_data/A30000O5.wav\n",
      "True\n",
      "prep_data/wav_data/A30000O5"
     ]
    },
    {
     "name": "stderr",
     "output_type": "stream",
     "text": [
      "Extracting features of wav_data:  14%|██████▊                                         | 29/205 [00:03<00:16, 10.54it/s]"
     ]
    },
    {
     "name": "stdout",
     "output_type": "stream",
     "text": [
      "\n",
      "('wav_data', 'A30000O7.wav')\n",
      "audio_filename: wav_data/A30000O7.wav\n",
      "Copying wav_data/A30000O7.wav ...\n",
      "prep_data/wav_data/A30000O7.wav\n",
      "True\n",
      "prep_data/wav_data/A30000O7\n",
      "('wav_data', 'A30000O8.wav')\n",
      "audio_filename: wav_data/A30000O8.wav\n",
      "Copying wav_data/A30000O8.wav ...\n",
      "prep_data/wav_data/A30000O8.wav\n",
      "True\n",
      "prep_data/wav_data/A30000O8\n",
      "('wav_data', 'A30000Q1.wav')\n",
      "audio_filename: wav_data/A30000Q1.wav\n",
      "Copying wav_data/A30000Q1.wav ...\n",
      "prep_data/wav_data/A30000Q1.wav\n",
      "True\n",
      "prep_data/wav_data/A30000Q1\n"
     ]
    },
    {
     "name": "stderr",
     "output_type": "stream",
     "text": [
      "\r",
      "Extracting features of wav_data:  15%|███████▎                                        | 31/205 [00:03<00:15, 10.94it/s]"
     ]
    },
    {
     "name": "stdout",
     "output_type": "stream",
     "text": [
      "('wav_data', 'A30000Q2.wav')\n",
      "audio_filename: wav_data/A30000Q2.wav\n",
      "Copying wav_data/A30000Q2.wav ...\n",
      "prep_data/wav_data/A30000Q2.wav\n",
      "True\n",
      "prep_data/wav_data/A30000Q2\n",
      "('wav_data', 'A30000S1.wav')\n",
      "audio_filename: wav_data/A30000S1.wav\n",
      "Copying wav_data/A30000S1.wav ...\n",
      "prep_data/wav_data/A30000S1.wav\n",
      "True\n"
     ]
    },
    {
     "name": "stderr",
     "output_type": "stream",
     "text": [
      "\r",
      "Extracting features of wav_data:  16%|███████▋                                        | 33/205 [00:03<00:18,  9.51it/s]"
     ]
    },
    {
     "name": "stdout",
     "output_type": "stream",
     "text": [
      "prep_data/wav_data/A30000S1\n",
      "('wav_data', 'A30000S2.wav')\n",
      "audio_filename: wav_data/A30000S2.wav\n",
      "Copying wav_data/A30000S2.wav ...\n",
      "prep_data/wav_data/A30000S2.wav\n",
      "True\n",
      "prep_data/wav_data/A30000S2\n",
      "('wav_data', 'A30000S3.wav')\n",
      "audio_filename: wav_data/A30000S3.wav\n",
      "Copying wav_data/A30000S3.wav ...\n",
      "prep_data/wav_data/A30000S3.wav\n",
      "True\n"
     ]
    },
    {
     "name": "stderr",
     "output_type": "stream",
     "text": [
      "\r",
      "Extracting features of wav_data:  17%|████████▏                                       | 35/205 [00:04<00:18,  9.12it/s]"
     ]
    },
    {
     "name": "stdout",
     "output_type": "stream",
     "text": [
      "prep_data/wav_data/A30000S3\n",
      "('wav_data', 'A30000S4.wav')\n",
      "audio_filename: wav_data/A30000S4.wav\n",
      "Copying wav_data/A30000S4.wav ...\n",
      "prep_data/wav_data/A30000S4.wav\n",
      "True\n",
      "prep_data/wav_data/A30000S4\n",
      "('wav_data', 'A30000S5.wav')\n",
      "audio_filename: wav_data/A30000S5.wav\n",
      "Copying wav_data/A30000S5.wav ...\n",
      "prep_data/wav_data/A30000S5.wav\n",
      "True\n"
     ]
    },
    {
     "name": "stderr",
     "output_type": "stream",
     "text": [
      "Extracting features of wav_data:  18%|████████▋                                       | 37/205 [00:04<00:18,  8.91it/s]"
     ]
    },
    {
     "name": "stdout",
     "output_type": "stream",
     "text": [
      "prep_data/wav_data/A30000S5\n",
      "('wav_data', 'A30000S6.wav')\n",
      "audio_filename: wav_data/A30000S6.wav\n",
      "Copying wav_data/A30000S6.wav ...\n",
      "prep_data/wav_data/A30000S6.wav\n",
      "True\n",
      "prep_data/wav_data/A30000S6\n",
      "('wav_data', 'A30000S7.wav')\n",
      "audio_filename: wav_data/A30000S7.wav\n",
      "Copying wav_data/A30000S7.wav ...\n",
      "prep_data/wav_data/A30000S7.wav\n",
      "True\n",
      "prep_data/wav_data/A30000S7\n",
      "('wav_data', 'A30000S8.wav')\n",
      "audio_filename: wav_data/A30000S8.wav\n",
      "Copying wav_data/A30000S8.wav ...\n",
      "prep_data/wav_data/A30000S8.wav\n",
      "True\n"
     ]
    },
    {
     "name": "stderr",
     "output_type": "stream",
     "text": [
      "\r",
      "Extracting features of wav_data:  19%|█████████▏                                      | 39/205 [00:04<00:21,  7.74it/s]"
     ]
    },
    {
     "name": "stdout",
     "output_type": "stream",
     "text": [
      "prep_data/wav_data/A30000S8\n",
      "('wav_data', 'A30000S9.wav')\n",
      "audio_filename: wav_data/A30000S9.wav\n",
      "Copying wav_data/A30000S9.wav ...\n",
      "prep_data/wav_data/A30000S9.wav\n",
      "True\n",
      "prep_data/wav_data/A30000S9"
     ]
    },
    {
     "name": "stderr",
     "output_type": "stream",
     "text": [
      "\r",
      "Extracting features of wav_data:  20%|█████████▎                                      | 40/205 [00:04<00:24,  6.81it/s]"
     ]
    },
    {
     "name": "stdout",
     "output_type": "stream",
     "text": [
      "\n",
      "('wav_data', 'A30000T1.wav')\n",
      "audio_filename: wav_data/A30000T1.wav\n",
      "Copying wav_data/A30000T1.wav ...\n",
      "prep_data/wav_data/A30000T1.wav\n",
      "True\n",
      "prep_data/wav_data/A30000T1\n",
      "('wav_data', 'A30000T2.wav')\n",
      "audio_filename: wav_data/A30000T2.wav\n",
      "Copying wav_data/A30000T2.wav ...\n",
      "prep_data/wav_data/A30000T2.wav\n",
      "True\n"
     ]
    },
    {
     "name": "stderr",
     "output_type": "stream",
     "text": [
      "Extracting features of wav_data:  21%|██████████▎                                     | 44/205 [00:05<00:19,  8.43it/s]"
     ]
    },
    {
     "name": "stdout",
     "output_type": "stream",
     "text": [
      "prep_data/wav_data/A30000T2\n",
      "('wav_data', 'A30000W1.wav')\n",
      "audio_filename: wav_data/A30000W1.wav\n",
      "Copying wav_data/A30000W1.wav ...\n",
      "prep_data/wav_data/A30000W1.wav\n",
      "True\n",
      "prep_data/wav_data/A30000W1\n",
      "('wav_data', 'A30000W2.wav')\n",
      "audio_filename: wav_data/A30000W2.wav\n",
      "Copying wav_data/A30000W2.wav ...\n",
      "prep_data/wav_data/A30000W2.wav\n",
      "True\n",
      "prep_data/wav_data/A30000W2\n",
      "('wav_data', 'A30000W3.wav')\n",
      "audio_filename: wav_data/A30000W3.wav\n",
      "Copying wav_data/A30000W3.wav ...\n",
      "prep_data/wav_data/A30000W3.wav\n",
      "True\n"
     ]
    },
    {
     "name": "stderr",
     "output_type": "stream",
     "text": [
      "Extracting features of wav_data:  23%|███████████                                     | 47/205 [00:05<00:17,  9.17it/s]"
     ]
    },
    {
     "name": "stdout",
     "output_type": "stream",
     "text": [
      "prep_data/wav_data/A30000W3\n",
      "('wav_data', 'A30000W4.wav')\n",
      "audio_filename: wav_data/A30000W4.wav\n",
      "Copying wav_data/A30000W4.wav ...\n",
      "prep_data/wav_data/A30000W4.wav\n",
      "True\n",
      "prep_data/wav_data/A30000W4\n",
      "('wav_data', 'A30000X1.wav')\n",
      "audio_filename: wav_data/A30000X1.wav\n",
      "Copying wav_data/A30000X1.wav ...\n",
      "prep_data/wav_data/A30000X1.wav\n",
      "True\n",
      "prep_data/wav_data/A30000X1\n",
      "('wav_data', 'A30000X2.wav')\n",
      "audio_filename: wav_data/A30000X2.wav\n",
      "Copying wav_data/A30000X2.wav ...\n",
      "prep_data/wav_data/A30000X2.wav\n",
      "True\n"
     ]
    },
    {
     "name": "stderr",
     "output_type": "stream",
     "text": [
      "Extracting features of wav_data:  24%|███████████▍                                    | 49/205 [00:05<00:18,  8.50it/s]"
     ]
    },
    {
     "name": "stdout",
     "output_type": "stream",
     "text": [
      "prep_data/wav_data/A30000X2\n",
      "('wav_data', 'A30000X3.wav')\n",
      "audio_filename: wav_data/A30000X3.wav\n",
      "Copying wav_data/A30000X3.wav ...\n",
      "prep_data/wav_data/A30000X3.wav\n",
      "True\n",
      "prep_data/wav_data/A30000X3\n",
      "('wav_data', 'A30000X4.wav')\n",
      "audio_filename: wav_data/A30000X4.wav\n",
      "Copying wav_data/A30000X4.wav ...\n",
      "prep_data/wav_data/A30000X4.wav\n",
      "True\n"
     ]
    },
    {
     "name": "stderr",
     "output_type": "stream",
     "text": [
      "\r",
      "Extracting features of wav_data:  25%|███████████▉                                    | 51/205 [00:06<00:17,  8.82it/s]"
     ]
    },
    {
     "name": "stdout",
     "output_type": "stream",
     "text": [
      "prep_data/wav_data/A30000X4\n",
      "('wav_data', 'A30000X5.wav')\n",
      "audio_filename: wav_data/A30000X5.wav\n",
      "Copying wav_data/A30000X5.wav ...\n",
      "prep_data/wav_data/A30000X5.wav\n",
      "True\n",
      "prep_data/wav_data/A30000X5\n",
      "('wav_data', 'A30000X6.wav')\n",
      "audio_filename: wav_data/A30000X6.wav\n",
      "Copying wav_data/A30000X6.wav ...\n",
      "prep_data/wav_data/A30000X6.wav\n",
      "True\n"
     ]
    },
    {
     "name": "stderr",
     "output_type": "stream",
     "text": [
      "\r",
      "Extracting features of wav_data:  25%|████████████▏                                   | 52/205 [00:06<00:17,  8.72it/s]"
     ]
    },
    {
     "name": "stdout",
     "output_type": "stream",
     "text": [
      "prep_data/wav_data/A30000X6\n",
      "('wav_data', 'A30001A1.wav')\n",
      "audio_filename: wav_data/A30001A1.wav\n",
      "Copying wav_data/A30001A1.wav ...\n",
      "prep_data/wav_data/A30001A1.wav\n",
      "True\n",
      "prep_data/wav_data/A30001A1\n",
      "('wav_data', 'A30001A2.wav')\n",
      "audio_filename: wav_data/A30001A2.wav\n",
      "Copying wav_data/A30001A2.wav ...\n",
      "prep_data/wav_data/A30001A2.wav\n",
      "True\n",
      "prep_data/wav_data/A30001A2"
     ]
    },
    {
     "name": "stderr",
     "output_type": "stream",
     "text": [
      "Extracting features of wav_data:  27%|█████████████                                   | 56/205 [00:06<00:14, 10.55it/s]"
     ]
    },
    {
     "name": "stdout",
     "output_type": "stream",
     "text": [
      "\n",
      "('wav_data', 'A30001A3.wav')\n",
      "audio_filename: wav_data/A30001A3.wav\n",
      "Copying wav_data/A30001A3.wav ...\n",
      "prep_data/wav_data/A30001A3.wav\n",
      "True\n",
      "prep_data/wav_data/A30001A3\n",
      "('wav_data', 'A30001A4.wav')\n",
      "audio_filename: wav_data/A30001A4.wav\n",
      "Copying wav_data/A30001A4.wav ...\n",
      "prep_data/wav_data/A30001A4.wav\n",
      "True\n",
      "prep_data/wav_data/A30001A4\n",
      "('wav_data', 'A30001A5.wav')\n",
      "audio_filename: wav_data/A30001A5.wav\n",
      "Copying wav_data/A30001A5.wav ...\n",
      "prep_data/wav_data/A30001A5.wav\n",
      "True\n",
      "prep_data/wav_data/A30001A5"
     ]
    },
    {
     "name": "stderr",
     "output_type": "stream",
     "text": [
      "\r",
      "Extracting features of wav_data:  28%|█████████████▌                                  | 58/205 [00:06<00:13, 11.19it/s]"
     ]
    },
    {
     "name": "stdout",
     "output_type": "stream",
     "text": [
      "\n",
      "('wav_data', 'A30001A6.wav')\n",
      "audio_filename: wav_data/A30001A6.wav\n",
      "Copying wav_data/A30001A6.wav ...\n",
      "prep_data/wav_data/A30001A6.wav\n",
      "True\n",
      "prep_data/wav_data/A30001A6\n",
      "('wav_data', 'A30001B1.wav')\n",
      "audio_filename: wav_data/A30001B1.wav\n",
      "Copying wav_data/A30001B1.wav ...\n",
      "prep_data/wav_data/A30001B1.wav\n",
      "True\n",
      "prep_data/wav_data/A30001B1\n"
     ]
    },
    {
     "name": "stderr",
     "output_type": "stream",
     "text": [
      "\r",
      "Extracting features of wav_data:  29%|██████████████                                  | 60/205 [00:06<00:13, 11.12it/s]"
     ]
    },
    {
     "name": "stdout",
     "output_type": "stream",
     "text": [
      "('wav_data', 'A30001C1.wav')\n",
      "audio_filename: wav_data/A30001C1.wav\n",
      "Copying wav_data/A30001C1.wav ...\n",
      "prep_data/wav_data/A30001C1.wav\n",
      "True\n",
      "prep_data/wav_data/A30001C1\n",
      "('wav_data', 'A30001C2.wav')\n",
      "audio_filename: wav_data/A30001C2.wav\n",
      "Copying wav_data/A30001C2.wav ...\n",
      "prep_data/wav_data/A30001C2.wav\n",
      "True\n",
      "prep_data/wav_data/A30001C2\n",
      "('wav_data', 'A30001C3.wav')\n",
      "audio_filename: wav_data/A30001C3.wav\n",
      "Copying wav_data/A30001C3.wav ...\n",
      "prep_data/wav_data/A30001C3.wav\n",
      "True\n"
     ]
    },
    {
     "name": "stderr",
     "output_type": "stream",
     "text": [
      "\r",
      "Extracting features of wav_data:  30%|██████████████▌                                 | 62/205 [00:07<00:15,  9.39it/s]"
     ]
    },
    {
     "name": "stdout",
     "output_type": "stream",
     "text": [
      "prep_data/wav_data/A30001C3\n",
      "('wav_data', 'A30001C4.wav')\n",
      "audio_filename: wav_data/A30001C4.wav\n",
      "Copying wav_data/A30001C4.wav ...\n",
      "prep_data/wav_data/A30001C4.wav\n",
      "True\n",
      "prep_data/wav_data/A30001C4\n",
      "('wav_data', 'A30001D1.wav')\n",
      "audio_filename: wav_data/A30001D1.wav\n",
      "Copying wav_data/A30001D1.wav ...\n",
      "prep_data/wav_data/A30001D1.wav\n",
      "True\n",
      "prep_data/wav_data/A30001D1"
     ]
    },
    {
     "name": "stderr",
     "output_type": "stream",
     "text": [
      "Extracting features of wav_data:  32%|███████████████▏                                | 65/205 [00:07<00:16,  8.28it/s]"
     ]
    },
    {
     "name": "stdout",
     "output_type": "stream",
     "text": [
      "\n",
      "('wav_data', 'A30001D2.wav')\n",
      "audio_filename: wav_data/A30001D2.wav\n",
      "Copying wav_data/A30001D2.wav ...\n",
      "prep_data/wav_data/A30001D2.wav\n",
      "True\n",
      "prep_data/wav_data/A30001D2\n",
      "('wav_data', 'A30001D3.wav')\n",
      "audio_filename: wav_data/A30001D3.wav\n",
      "Copying wav_data/A30001D3.wav ...\n",
      "prep_data/wav_data/A30001D3.wav\n",
      "True\n"
     ]
    },
    {
     "name": "stderr",
     "output_type": "stream",
     "text": [
      "\r",
      "Extracting features of wav_data:  33%|███████████████▋                                | 67/205 [00:07<00:15,  9.18it/s]"
     ]
    },
    {
     "name": "stdout",
     "output_type": "stream",
     "text": [
      "prep_data/wav_data/A30001D3\n",
      "('wav_data', 'A30001E1.wav')\n",
      "audio_filename: wav_data/A30001E1.wav\n",
      "Copying wav_data/A30001E1.wav ...\n",
      "prep_data/wav_data/A30001E1.wav\n",
      "True\n",
      "prep_data/wav_data/A30001E1\n",
      "('wav_data', 'A30001I1.wav')\n",
      "audio_filename: wav_data/A30001I1.wav\n",
      "Copying wav_data/A30001I1.wav ...\n",
      "prep_data/wav_data/A30001I1.wav\n",
      "True\n",
      "prep_data/wav_data/A30001I1"
     ]
    },
    {
     "name": "stderr",
     "output_type": "stream",
     "text": [
      "Extracting features of wav_data:  34%|████████████████▏                               | 69/205 [00:07<00:16,  8.00it/s]"
     ]
    },
    {
     "name": "stdout",
     "output_type": "stream",
     "text": [
      "\n",
      "('wav_data', 'A30001L1.wav')\n",
      "audio_filename: wav_data/A30001L1.wav\n",
      "Copying wav_data/A30001L1.wav ...\n",
      "prep_data/wav_data/A30001L1.wav\n",
      "True\n",
      "prep_data/wav_data/A30001L1\n",
      "('wav_data', 'A30001L2.wav')\n",
      "audio_filename: wav_data/A30001L2.wav\n",
      "Copying wav_data/A30001L2.wav ...\n",
      "prep_data/wav_data/A30001L2.wav\n",
      "True\n"
     ]
    },
    {
     "name": "stderr",
     "output_type": "stream",
     "text": [
      "Extracting features of wav_data:  35%|████████████████▌                               | 71/205 [00:08<00:19,  6.84it/s]"
     ]
    },
    {
     "name": "stdout",
     "output_type": "stream",
     "text": [
      "prep_data/wav_data/A30001L2\n",
      "('wav_data', 'A30001L3.wav')\n",
      "audio_filename: wav_data/A30001L3.wav\n",
      "Copying wav_data/A30001L3.wav ...\n",
      "prep_data/wav_data/A30001L3.wav\n",
      "True\n",
      "prep_data/wav_data/A30001L3\n",
      "('wav_data', 'A30001M1.wav')\n",
      "audio_filename: wav_data/A30001M1.wav\n",
      "Copying wav_data/A30001M1.wav ...\n",
      "prep_data/wav_data/A30001M1.wav\n",
      "True\n"
     ]
    },
    {
     "name": "stderr",
     "output_type": "stream",
     "text": [
      "Extracting features of wav_data:  36%|█████████████████                               | 73/205 [00:08<00:18,  7.16it/s]"
     ]
    },
    {
     "name": "stdout",
     "output_type": "stream",
     "text": [
      "prep_data/wav_data/A30001M1\n",
      "('wav_data', 'A30001M2.wav')\n",
      "audio_filename: wav_data/A30001M2.wav\n",
      "Copying wav_data/A30001M2.wav ...\n",
      "prep_data/wav_data/A30001M2.wav\n",
      "True\n",
      "prep_data/wav_data/A30001M2\n",
      "('wav_data', 'A30001N1.wav')\n",
      "audio_filename: wav_data/A30001N1.wav\n",
      "Copying wav_data/A30001N1.wav ...\n",
      "prep_data/wav_data/A30001N1.wav\n",
      "True\n"
     ]
    },
    {
     "name": "stderr",
     "output_type": "stream",
     "text": [
      "Extracting features of wav_data:  37%|█████████████████▊                              | 76/205 [00:08<00:14,  8.92it/s]"
     ]
    },
    {
     "name": "stdout",
     "output_type": "stream",
     "text": [
      "prep_data/wav_data/A30001N1\n",
      "('wav_data', 'A30001O1.wav')\n",
      "audio_filename: wav_data/A30001O1.wav\n",
      "Copying wav_data/A30001O1.wav ...\n",
      "prep_data/wav_data/A30001O1.wav\n",
      "True\n",
      "prep_data/wav_data/A30001O1\n",
      "('wav_data', 'A30001O2.wav')\n",
      "audio_filename: wav_data/A30001O2.wav\n",
      "Copying wav_data/A30001O2.wav ...\n",
      "prep_data/wav_data/A30001O2.wav\n",
      "True\n",
      "prep_data/wav_data/A30001O2\n",
      "('wav_data', 'A30001O3.wav')\n",
      "audio_filename: wav_data/A30001O3.wav\n",
      "Copying wav_data/A30001O3.wav ...\n",
      "prep_data/wav_data/A30001O3.wav\n",
      "True\n",
      "prep_data/wav_data/A30001O3\n",
      "('wav_data', 'A30001O5.wav')\n",
      "audio_filename: wav_data/A30001O5.wav\n",
      "Copying wav_data/A30001O5.wav ...\n",
      "prep_data/wav_data/A30001O5.wav\n",
      "True\n"
     ]
    },
    {
     "name": "stderr",
     "output_type": "stream",
     "text": [
      "Extracting features of wav_data:  39%|██████████████████▋                             | 80/205 [00:09<00:11, 11.25it/s]"
     ]
    },
    {
     "name": "stdout",
     "output_type": "stream",
     "text": [
      "prep_data/wav_data/A30001O5\n",
      "('wav_data', 'A30001O7.wav')\n",
      "audio_filename: wav_data/A30001O7.wav\n",
      "Copying wav_data/A30001O7.wav ...\n",
      "prep_data/wav_data/A30001O7.wav\n",
      "True\n",
      "prep_data/wav_data/A30001O7\n",
      "('wav_data', 'A30001O8.wav')\n",
      "audio_filename: wav_data/A30001O8.wav\n",
      "Copying wav_data/A30001O8.wav ...\n",
      "prep_data/wav_data/A30001O8.wav\n",
      "True\n",
      "prep_data/wav_data/A30001O8\n",
      "('wav_data', 'A30001Q1.wav')\n",
      "audio_filename: wav_data/A30001Q1.wav\n",
      "Copying wav_data/A30001Q1.wav ...\n",
      "prep_data/wav_data/A30001Q1.wav\n",
      "True\n"
     ]
    },
    {
     "name": "stderr",
     "output_type": "stream",
     "text": [
      "\r",
      "Extracting features of wav_data:  40%|███████████████████▏                            | 82/205 [00:09<00:10, 11.60it/s]"
     ]
    },
    {
     "name": "stdout",
     "output_type": "stream",
     "text": [
      "prep_data/wav_data/A30001Q1\n",
      "('wav_data', 'A30001Q2.wav')\n",
      "audio_filename: wav_data/A30001Q2.wav\n",
      "Copying wav_data/A30001Q2.wav ...\n",
      "prep_data/wav_data/A30001Q2.wav\n",
      "True\n",
      "prep_data/wav_data/A30001Q2\n",
      "('wav_data', 'A30001S1.wav')\n",
      "audio_filename: wav_data/A30001S1.wav\n",
      "Copying wav_data/A30001S1.wav ...\n",
      "prep_data/wav_data/A30001S1.wav\n",
      "True\n",
      "prep_data/wav_data/A30001S1"
     ]
    },
    {
     "name": "stderr",
     "output_type": "stream",
     "text": [
      "\r",
      "Extracting features of wav_data:  41%|███████████████████▋                            | 84/205 [00:09<00:11, 10.34it/s]"
     ]
    },
    {
     "name": "stdout",
     "output_type": "stream",
     "text": [
      "\n",
      "('wav_data', 'A30001S2.wav')\n",
      "audio_filename: wav_data/A30001S2.wav\n",
      "Copying wav_data/A30001S2.wav ...\n",
      "prep_data/wav_data/A30001S2.wav\n",
      "True\n",
      "prep_data/wav_data/A30001S2\n",
      "('wav_data', 'A30001S3.wav')\n",
      "audio_filename: wav_data/A30001S3.wav\n",
      "Copying wav_data/A30001S3.wav ...\n",
      "prep_data/wav_data/A30001S3.wav\n",
      "True\n",
      "prep_data/wav_data/A30001S3\n",
      "('wav_data', 'A30001S4.wav')\n",
      "audio_filename: wav_data/A30001S4.wav\n",
      "Copying wav_data/A30001S4.wav ...\n",
      "prep_data/wav_data/A30001S4.wav\n",
      "True\n",
      "prep_data/wav_data/A30001S4"
     ]
    },
    {
     "name": "stderr",
     "output_type": "stream",
     "text": [
      "Extracting features of wav_data:  42%|████████████████████▎                           | 87/205 [00:09<00:15,  7.78it/s]"
     ]
    },
    {
     "name": "stdout",
     "output_type": "stream",
     "text": [
      "\n",
      "('wav_data', 'A30001S5.wav')\n",
      "audio_filename: wav_data/A30001S5.wav\n",
      "Copying wav_data/A30001S5.wav ...\n",
      "prep_data/wav_data/A30001S5.wav\n",
      "True\n",
      "prep_data/wav_data/A30001S5\n",
      "('wav_data', 'A30001S6.wav')\n",
      "audio_filename: wav_data/A30001S6.wav\n",
      "Copying wav_data/A30001S6.wav ...\n",
      "prep_data/wav_data/A30001S6.wav\n",
      "True\n"
     ]
    },
    {
     "name": "stderr",
     "output_type": "stream",
     "text": [
      "Extracting features of wav_data:  43%|████████████████████▊                           | 89/205 [00:10<00:15,  7.27it/s]"
     ]
    },
    {
     "name": "stdout",
     "output_type": "stream",
     "text": [
      "prep_data/wav_data/A30001S6\n",
      "('wav_data', 'A30001S7.wav')\n",
      "audio_filename: wav_data/A30001S7.wav\n",
      "Copying wav_data/A30001S7.wav ...\n",
      "prep_data/wav_data/A30001S7.wav\n",
      "True\n",
      "prep_data/wav_data/A30001S7\n",
      "('wav_data', 'A30001S8.wav')\n",
      "audio_filename: wav_data/A30001S8.wav\n",
      "Copying wav_data/A30001S8.wav ...\n",
      "prep_data/wav_data/A30001S8.wav\n",
      "True\n"
     ]
    },
    {
     "name": "stderr",
     "output_type": "stream",
     "text": [
      "\r",
      "Extracting features of wav_data:  44%|█████████████████████                           | 90/205 [00:10<00:15,  7.33it/s]"
     ]
    },
    {
     "name": "stdout",
     "output_type": "stream",
     "text": [
      "prep_data/wav_data/A30001S8\n",
      "('wav_data', 'A30001S9.wav')\n",
      "audio_filename: wav_data/A30001S9.wav\n",
      "Copying wav_data/A30001S9.wav ...\n",
      "prep_data/wav_data/A30001S9.wav\n",
      "True\n"
     ]
    },
    {
     "name": "stderr",
     "output_type": "stream",
     "text": [
      "\r",
      "Extracting features of wav_data:  44%|█████████████████████▎                          | 91/205 [00:10<00:19,  5.95it/s]"
     ]
    },
    {
     "name": "stdout",
     "output_type": "stream",
     "text": [
      "prep_data/wav_data/A30001S9\n",
      "('wav_data', 'A30001T1.wav')\n",
      "audio_filename: wav_data/A30001T1.wav\n",
      "Copying wav_data/A30001T1.wav ...\n",
      "prep_data/wav_data/A30001T1.wav\n",
      "True\n",
      "prep_data/wav_data/A30001T1\n",
      "('wav_data', 'A30001T2.wav')\n",
      "audio_filename: wav_data/A30001T2.wav\n",
      "Copying wav_data/A30001T2.wav ...\n",
      "prep_data/wav_data/A30001T2.wav\n",
      "True\n",
      "prep_data/wav_data/A30001T2"
     ]
    },
    {
     "name": "stderr",
     "output_type": "stream",
     "text": [
      "Extracting features of wav_data:  46%|██████████████████████▏                         | 95/205 [00:10<00:13,  8.20it/s]"
     ]
    },
    {
     "name": "stdout",
     "output_type": "stream",
     "text": [
      "\n",
      "('wav_data', 'A30001W1.wav')\n",
      "audio_filename: wav_data/A30001W1.wav\n",
      "Copying wav_data/A30001W1.wav ...\n",
      "prep_data/wav_data/A30001W1.wav\n",
      "True\n",
      "prep_data/wav_data/A30001W1\n",
      "('wav_data', 'A30001W2.wav')\n",
      "audio_filename: wav_data/A30001W2.wav\n",
      "Copying wav_data/A30001W2.wav ...\n",
      "prep_data/wav_data/A30001W2.wav\n",
      "True\n",
      "prep_data/wav_data/A30001W2\n",
      "('wav_data', 'A30001W3.wav')\n",
      "audio_filename: wav_data/A30001W3.wav\n",
      "Copying wav_data/A30001W3.wav ...\n",
      "prep_data/wav_data/A30001W3.wav\n",
      "True\n",
      "prep_data/wav_data/A30001W3\n"
     ]
    },
    {
     "name": "stderr",
     "output_type": "stream",
     "text": [
      "\r",
      "Extracting features of wav_data:  47%|██████████████████████▋                         | 97/205 [00:11<00:12,  8.92it/s]"
     ]
    },
    {
     "name": "stdout",
     "output_type": "stream",
     "text": [
      "('wav_data', 'A30001W4.wav')\n",
      "audio_filename: wav_data/A30001W4.wav\n",
      "Copying wav_data/A30001W4.wav ...\n",
      "prep_data/wav_data/A30001W4.wav\n",
      "True\n",
      "prep_data/wav_data/A30001W4\n",
      "('wav_data', 'A30001X1.wav')\n",
      "audio_filename: wav_data/A30001X1.wav\n",
      "Copying wav_data/A30001X1.wav ...\n",
      "prep_data/wav_data/A30001X1.wav\n",
      "True\n",
      "prep_data/wav_data/A30001X1\n",
      "('wav_data', 'A30001X2.wav')\n",
      "audio_filename: wav_data/A30001X2.wav\n",
      "Copying wav_data/A30001X2.wav ...\n",
      "prep_data/wav_data/A30001X2.wav\n",
      "True\n"
     ]
    },
    {
     "name": "stderr",
     "output_type": "stream",
     "text": [
      "Extracting features of wav_data:  49%|███████████████████████▏                       | 101/205 [00:11<00:10, 10.26it/s]"
     ]
    },
    {
     "name": "stdout",
     "output_type": "stream",
     "text": [
      "prep_data/wav_data/A30001X2\n",
      "('wav_data', 'A30001X3.wav')\n",
      "audio_filename: wav_data/A30001X3.wav\n",
      "Copying wav_data/A30001X3.wav ...\n",
      "prep_data/wav_data/A30001X3.wav\n",
      "True\n",
      "prep_data/wav_data/A30001X3\n",
      "('wav_data', 'A30001X4.wav')\n",
      "audio_filename: wav_data/A30001X4.wav\n",
      "Copying wav_data/A30001X4.wav ...\n",
      "prep_data/wav_data/A30001X4.wav\n",
      "True\n",
      "prep_data/wav_data/A30001X4\n",
      "('wav_data', 'A30001X5.wav')\n",
      "audio_filename: wav_data/A30001X5.wav\n",
      "Copying wav_data/A30001X5.wav ...\n",
      "prep_data/wav_data/A30001X5.wav\n",
      "True\n"
     ]
    },
    {
     "name": "stderr",
     "output_type": "stream",
     "text": [
      "\r",
      "Extracting features of wav_data:  50%|███████████████████████▌                       | 103/205 [00:11<00:09, 10.94it/s]"
     ]
    },
    {
     "name": "stdout",
     "output_type": "stream",
     "text": [
      "prep_data/wav_data/A30001X5\n",
      "('wav_data', 'A30001X6.wav')\n",
      "audio_filename: wav_data/A30001X6.wav\n",
      "Copying wav_data/A30001X6.wav ...\n",
      "prep_data/wav_data/A30001X6.wav\n",
      "True\n",
      "prep_data/wav_data/A30001X6\n",
      "('wav_data', 'A30002A1.wav')\n",
      "audio_filename: wav_data/A30002A1.wav\n",
      "Copying wav_data/A30002A1.wav ...\n",
      "prep_data/wav_data/A30002A1.wav\n",
      "True\n",
      "prep_data/wav_data/A30002A1\n",
      "('wav_data', 'A30002A2.wav')\n",
      "audio_filename: wav_data/A30002A2.wav\n",
      "Copying wav_data/A30002A2.wav ...\n",
      "prep_data/wav_data/A30002A2.wav\n",
      "True\n"
     ]
    },
    {
     "name": "stderr",
     "output_type": "stream",
     "text": [
      "Extracting features of wav_data:  52%|████████████████████████▌                      | 107/205 [00:11<00:08, 11.67it/s]"
     ]
    },
    {
     "name": "stdout",
     "output_type": "stream",
     "text": [
      "prep_data/wav_data/A30002A2\n",
      "('wav_data', 'A30002A3.wav')\n",
      "audio_filename: wav_data/A30002A3.wav\n",
      "Copying wav_data/A30002A3.wav ...\n",
      "prep_data/wav_data/A30002A3.wav\n",
      "True\n",
      "prep_data/wav_data/A30002A3\n",
      "('wav_data', 'A30002A4.wav')\n",
      "audio_filename: wav_data/A30002A4.wav\n",
      "Copying wav_data/A30002A4.wav ...\n",
      "prep_data/wav_data/A30002A4.wav\n",
      "True\n",
      "prep_data/wav_data/A30002A4\n",
      "('wav_data', 'A30002A5.wav')\n",
      "audio_filename: wav_data/A30002A5.wav\n",
      "Copying wav_data/A30002A5.wav ...\n",
      "prep_data/wav_data/A30002A5.wav\n",
      "True\n"
     ]
    },
    {
     "name": "stderr",
     "output_type": "stream",
     "text": [
      "\r",
      "Extracting features of wav_data:  53%|████████████████████████▉                      | 109/205 [00:12<00:07, 12.04it/s]"
     ]
    },
    {
     "name": "stdout",
     "output_type": "stream",
     "text": [
      "prep_data/wav_data/A30002A5\n",
      "('wav_data', 'A30002A6.wav')\n",
      "audio_filename: wav_data/A30002A6.wav\n",
      "Copying wav_data/A30002A6.wav ...\n",
      "prep_data/wav_data/A30002A6.wav\n",
      "True\n",
      "prep_data/wav_data/A30002A6\n",
      "('wav_data', 'A30002B1.wav')\n",
      "audio_filename: wav_data/A30002B1.wav\n",
      "Copying wav_data/A30002B1.wav ...\n",
      "prep_data/wav_data/A30002B1.wav\n",
      "True\n"
     ]
    },
    {
     "name": "stderr",
     "output_type": "stream",
     "text": [
      "\r",
      "Extracting features of wav_data:  54%|█████████████████████████▍                     | 111/205 [00:12<00:09, 10.06it/s]"
     ]
    },
    {
     "name": "stdout",
     "output_type": "stream",
     "text": [
      "prep_data/wav_data/A30002B1\n",
      "('wav_data', 'A30002C1.wav')\n",
      "audio_filename: wav_data/A30002C1.wav\n",
      "Copying wav_data/A30002C1.wav ...\n",
      "prep_data/wav_data/A30002C1.wav\n",
      "True\n",
      "prep_data/wav_data/A30002C1\n",
      "('wav_data', 'A30002C2.wav')\n",
      "audio_filename: wav_data/A30002C2.wav\n",
      "Copying wav_data/A30002C2.wav ...\n",
      "prep_data/wav_data/A30002C2.wav\n",
      "True\n",
      "prep_data/wav_data/A30002C2\n",
      "('wav_data', 'A30002C3.wav')\n",
      "audio_filename: wav_data/A30002C3.wav\n",
      "Copying wav_data/A30002C3.wav ...\n",
      "prep_data/wav_data/A30002C3.wav\n",
      "True\n"
     ]
    },
    {
     "name": "stderr",
     "output_type": "stream",
     "text": [
      "Extracting features of wav_data:  56%|██████████████████████████▏                    | 114/205 [00:12<00:11,  8.16it/s]"
     ]
    },
    {
     "name": "stdout",
     "output_type": "stream",
     "text": [
      "prep_data/wav_data/A30002C3\n",
      "('wav_data', 'A30002C4.wav')\n",
      "audio_filename: wav_data/A30002C4.wav\n",
      "Copying wav_data/A30002C4.wav ...\n",
      "prep_data/wav_data/A30002C4.wav\n",
      "True\n",
      "prep_data/wav_data/A30002C4\n",
      "('wav_data', 'A30002D1.wav')\n",
      "audio_filename: wav_data/A30002D1.wav\n",
      "Copying wav_data/A30002D1.wav ...\n",
      "prep_data/wav_data/A30002D1.wav\n",
      "True\n"
     ]
    },
    {
     "name": "stderr",
     "output_type": "stream",
     "text": [
      "Extracting features of wav_data:  57%|██████████████████████████▌                    | 116/205 [00:13<00:11,  7.87it/s]"
     ]
    },
    {
     "name": "stdout",
     "output_type": "stream",
     "text": [
      "prep_data/wav_data/A30002D1\n",
      "('wav_data', 'A30002D2.wav')\n",
      "audio_filename: wav_data/A30002D2.wav\n",
      "Copying wav_data/A30002D2.wav ...\n",
      "prep_data/wav_data/A30002D2.wav\n",
      "True\n",
      "prep_data/wav_data/A30002D2\n",
      "('wav_data', 'A30002D3.wav')\n",
      "audio_filename: wav_data/A30002D3.wav\n",
      "Copying wav_data/A30002D3.wav ...\n",
      "prep_data/wav_data/A30002D3.wav\n",
      "True\n"
     ]
    },
    {
     "name": "stderr",
     "output_type": "stream",
     "text": [
      "\r",
      "Extracting features of wav_data:  58%|███████████████████████████                    | 118/205 [00:13<00:09,  8.76it/s]"
     ]
    },
    {
     "name": "stdout",
     "output_type": "stream",
     "text": [
      "prep_data/wav_data/A30002D3\n",
      "('wav_data', 'A30002E1.wav')\n",
      "audio_filename: wav_data/A30002E1.wav\n",
      "Copying wav_data/A30002E1.wav ...\n",
      "prep_data/wav_data/A30002E1.wav\n",
      "True\n",
      "prep_data/wav_data/A30002E1\n",
      "('wav_data', 'A30002I1.wav')\n",
      "audio_filename: wav_data/A30002I1.wav\n",
      "Copying wav_data/A30002I1.wav ...\n",
      "prep_data/wav_data/A30002I1.wav\n",
      "True\n",
      "prep_data/wav_data/A30002I1\n",
      "('wav_data', 'A30002L1.wav')\n",
      "audio_filename: wav_data/A30002L1.wav\n",
      "Copying wav_data/A30002L1.wav ...\n",
      "prep_data/wav_data/A30002L1.wav\n",
      "True\n"
     ]
    },
    {
     "name": "stderr",
     "output_type": "stream",
     "text": [
      "Extracting features of wav_data:  59%|███████████████████████████▋                   | 121/205 [00:13<00:09,  8.58it/s]"
     ]
    },
    {
     "name": "stdout",
     "output_type": "stream",
     "text": [
      "prep_data/wav_data/A30002L1\n",
      "('wav_data', 'A30002L2.wav')\n",
      "audio_filename: wav_data/A30002L2.wav\n",
      "Copying wav_data/A30002L2.wav ...\n",
      "prep_data/wav_data/A30002L2.wav\n",
      "True\n",
      "prep_data/wav_data/A30002L2\n",
      "('wav_data', 'A30002L3.wav')\n",
      "audio_filename: wav_data/A30002L3.wav\n",
      "Copying wav_data/A30002L3.wav ...\n",
      "prep_data/wav_data/A30002L3.wav\n",
      "True\n"
     ]
    },
    {
     "name": "stderr",
     "output_type": "stream",
     "text": [
      "Extracting features of wav_data:  60%|████████████████████████████▏                  | 123/205 [00:13<00:09,  8.49it/s]"
     ]
    },
    {
     "name": "stdout",
     "output_type": "stream",
     "text": [
      "prep_data/wav_data/A30002L3\n",
      "('wav_data', 'A30002M1.wav')\n",
      "audio_filename: wav_data/A30002M1.wav\n",
      "Copying wav_data/A30002M1.wav ...\n",
      "prep_data/wav_data/A30002M1.wav\n",
      "True\n",
      "prep_data/wav_data/A30002M1\n",
      "('wav_data', 'A30002M2.wav')\n",
      "audio_filename: wav_data/A30002M2.wav\n",
      "Copying wav_data/A30002M2.wav ...\n",
      "prep_data/wav_data/A30002M2.wav\n",
      "True\n"
     ]
    },
    {
     "name": "stderr",
     "output_type": "stream",
     "text": [
      "Extracting features of wav_data:  61%|████████████████████████████▋                  | 125/205 [00:14<00:09,  8.45it/s]"
     ]
    },
    {
     "name": "stdout",
     "output_type": "stream",
     "text": [
      "prep_data/wav_data/A30002M2\n",
      "('wav_data', 'A30002N1.wav')\n",
      "audio_filename: wav_data/A30002N1.wav\n",
      "Copying wav_data/A30002N1.wav ...\n",
      "prep_data/wav_data/A30002N1.wav\n",
      "True\n",
      "prep_data/wav_data/A30002N1\n",
      "('wav_data', 'A30002O1.wav')\n",
      "audio_filename: wav_data/A30002O1.wav\n",
      "Copying wav_data/A30002O1.wav ...\n",
      "prep_data/wav_data/A30002O1.wav\n",
      "True\n"
     ]
    },
    {
     "name": "stderr",
     "output_type": "stream",
     "text": [
      "\r",
      "Extracting features of wav_data:  62%|█████████████████████████████                  | 127/205 [00:14<00:08,  9.12it/s]"
     ]
    },
    {
     "name": "stdout",
     "output_type": "stream",
     "text": [
      "prep_data/wav_data/A30002O1\n",
      "('wav_data', 'A30002O2.wav')\n",
      "audio_filename: wav_data/A30002O2.wav\n",
      "Copying wav_data/A30002O2.wav ...\n",
      "prep_data/wav_data/A30002O2.wav\n",
      "True\n",
      "prep_data/wav_data/A30002O2\n",
      "('wav_data', 'A30002O3.wav')\n",
      "audio_filename: wav_data/A30002O3.wav\n",
      "Copying wav_data/A30002O3.wav ...\n",
      "prep_data/wav_data/A30002O3.wav\n",
      "True\n",
      "prep_data/wav_data/A30002O3"
     ]
    },
    {
     "name": "stderr",
     "output_type": "stream",
     "text": [
      "\r",
      "Extracting features of wav_data:  62%|█████████████████████████████▎                 | 128/205 [00:14<00:08,  8.90it/s]"
     ]
    },
    {
     "name": "stdout",
     "output_type": "stream",
     "text": [
      "\n",
      "('wav_data', 'A30002O5.wav')\n",
      "audio_filename: wav_data/A30002O5.wav\n",
      "Copying wav_data/A30002O5.wav ...\n",
      "prep_data/wav_data/A30002O5.wav\n",
      "True\n",
      "prep_data/wav_data/A30002O5\n",
      "('wav_data', 'A30002O7.wav')\n",
      "audio_filename: wav_data/A30002O7.wav\n",
      "Copying wav_data/A30002O7.wav ...\n",
      "prep_data/wav_data/A30002O7.wav\n",
      "True\n",
      "prep_data/wav_data/A30002O7"
     ]
    },
    {
     "name": "stderr",
     "output_type": "stream",
     "text": [
      "Extracting features of wav_data:  64%|██████████████████████████████▎                | 132/205 [00:14<00:07, 10.20it/s]"
     ]
    },
    {
     "name": "stdout",
     "output_type": "stream",
     "text": [
      "\n",
      "('wav_data', 'A30002O8.wav')\n",
      "audio_filename: wav_data/A30002O8.wav\n",
      "Copying wav_data/A30002O8.wav ...\n",
      "prep_data/wav_data/A30002O8.wav\n",
      "True\n",
      "prep_data/wav_data/A30002O8\n",
      "('wav_data', 'A30002Q1.wav')\n",
      "audio_filename: wav_data/A30002Q1.wav\n",
      "Copying wav_data/A30002Q1.wav ...\n",
      "prep_data/wav_data/A30002Q1.wav\n",
      "True\n",
      "prep_data/wav_data/A30002Q1\n",
      "('wav_data', 'A30002Q2.wav')\n",
      "audio_filename: wav_data/A30002Q2.wav\n",
      "Copying wav_data/A30002Q2.wav ...\n",
      "prep_data/wav_data/A30002Q2.wav\n",
      "True\n"
     ]
    },
    {
     "name": "stderr",
     "output_type": "stream",
     "text": [
      "\r",
      "Extracting features of wav_data:  65%|██████████████████████████████▋                | 134/205 [00:15<00:08,  8.56it/s]"
     ]
    },
    {
     "name": "stdout",
     "output_type": "stream",
     "text": [
      "prep_data/wav_data/A30002Q2\n",
      "('wav_data', 'A30002S1.wav')\n",
      "audio_filename: wav_data/A30002S1.wav\n",
      "Copying wav_data/A30002S1.wav ...\n",
      "prep_data/wav_data/A30002S1.wav\n",
      "True\n",
      "prep_data/wav_data/A30002S1\n",
      "('wav_data', 'A30002S2.wav')\n",
      "audio_filename: wav_data/A30002S2.wav\n",
      "Copying wav_data/A30002S2.wav ...\n",
      "prep_data/wav_data/A30002S2.wav\n",
      "True\n"
     ]
    },
    {
     "name": "stderr",
     "output_type": "stream",
     "text": [
      "Extracting features of wav_data:  66%|███████████████████████████████▏               | 136/205 [00:15<00:08,  8.47it/s]"
     ]
    },
    {
     "name": "stdout",
     "output_type": "stream",
     "text": [
      "prep_data/wav_data/A30002S2\n",
      "('wav_data', 'A30002S3.wav')\n",
      "audio_filename: wav_data/A30002S3.wav\n",
      "Copying wav_data/A30002S3.wav ...\n",
      "prep_data/wav_data/A30002S3.wav\n",
      "True\n",
      "prep_data/wav_data/A30002S3\n",
      "('wav_data', 'A30002S4.wav')\n",
      "audio_filename: wav_data/A30002S4.wav\n",
      "Copying wav_data/A30002S4.wav ...\n",
      "prep_data/wav_data/A30002S4.wav\n",
      "True\n"
     ]
    },
    {
     "name": "stderr",
     "output_type": "stream",
     "text": [
      "\r",
      "Extracting features of wav_data:  67%|███████████████████████████████▍               | 137/205 [00:15<00:08,  7.80it/s]"
     ]
    },
    {
     "name": "stdout",
     "output_type": "stream",
     "text": [
      "prep_data/wav_data/A30002S4\n",
      "('wav_data', 'A30002S5.wav')\n",
      "audio_filename: wav_data/A30002S5.wav\n",
      "Copying wav_data/A30002S5.wav ...\n",
      "prep_data/wav_data/A30002S5.wav\n",
      "True\n",
      "prep_data/wav_data/A30002S5\n",
      "('wav_data', 'A30002S6.wav')\n",
      "audio_filename: wav_data/A30002S6.wav\n",
      "Copying wav_data/A30002S6.wav ...\n",
      "prep_data/wav_data/A30002S6.wav\n",
      "True\n"
     ]
    },
    {
     "name": "stderr",
     "output_type": "stream",
     "text": [
      "Extracting features of wav_data:  68%|████████████████████████████████               | 140/205 [00:15<00:08,  8.07it/s]"
     ]
    },
    {
     "name": "stdout",
     "output_type": "stream",
     "text": [
      "prep_data/wav_data/A30002S6\n",
      "('wav_data', 'A30002S7.wav')\n",
      "audio_filename: wav_data/A30002S7.wav\n",
      "Copying wav_data/A30002S7.wav ...\n",
      "prep_data/wav_data/A30002S7.wav\n",
      "True\n",
      "prep_data/wav_data/A30002S7\n",
      "('wav_data', 'A30002S8.wav')\n",
      "audio_filename: wav_data/A30002S8.wav\n",
      "Copying wav_data/A30002S8.wav ...\n",
      "prep_data/wav_data/A30002S8.wav\n",
      "True\n"
     ]
    },
    {
     "name": "stderr",
     "output_type": "stream",
     "text": [
      "Extracting features of wav_data:  69%|████████████████████████████████▌              | 142/205 [00:16<00:08,  7.87it/s]"
     ]
    },
    {
     "name": "stdout",
     "output_type": "stream",
     "text": [
      "prep_data/wav_data/A30002S8\n",
      "('wav_data', 'A30002S9.wav')\n",
      "audio_filename: wav_data/A30002S9.wav\n",
      "Copying wav_data/A30002S9.wav ...\n",
      "prep_data/wav_data/A30002S9.wav\n",
      "True\n",
      "prep_data/wav_data/A30002S9\n",
      "('wav_data', 'A30002T1.wav')\n",
      "audio_filename: wav_data/A30002T1.wav\n",
      "Copying wav_data/A30002T1.wav ...\n",
      "prep_data/wav_data/A30002T1.wav\n",
      "True\n"
     ]
    },
    {
     "name": "stderr",
     "output_type": "stream",
     "text": [
      "\r",
      "Extracting features of wav_data:  70%|█████████████████████████████████              | 144/205 [00:16<00:07,  8.64it/s]"
     ]
    },
    {
     "name": "stdout",
     "output_type": "stream",
     "text": [
      "prep_data/wav_data/A30002T1\n",
      "('wav_data', 'A30002T2.wav')\n",
      "audio_filename: wav_data/A30002T2.wav\n",
      "Copying wav_data/A30002T2.wav ...\n",
      "prep_data/wav_data/A30002T2.wav\n",
      "True\n",
      "prep_data/wav_data/A30002T2\n",
      "('wav_data', 'A30002W1.wav')\n",
      "audio_filename: wav_data/A30002W1.wav\n",
      "Copying wav_data/A30002W1.wav ...\n",
      "prep_data/wav_data/A30002W1.wav\n",
      "True\n",
      "prep_data/wav_data/A30002W1\n",
      "('wav_data', 'A30002W2.wav')\n",
      "audio_filename: wav_data/A30002W2.wav\n",
      "Copying wav_data/A30002W2.wav ...\n",
      "prep_data/wav_data/A30002W2.wav\n",
      "True\n"
     ]
    },
    {
     "name": "stderr",
     "output_type": "stream",
     "text": [
      "Extracting features of wav_data:  72%|█████████████████████████████████▉             | 148/205 [00:16<00:05, 10.52it/s]"
     ]
    },
    {
     "name": "stdout",
     "output_type": "stream",
     "text": [
      "prep_data/wav_data/A30002W2\n",
      "('wav_data', 'A30002W3.wav')\n",
      "audio_filename: wav_data/A30002W3.wav\n",
      "Copying wav_data/A30002W3.wav ...\n",
      "prep_data/wav_data/A30002W3.wav\n",
      "True\n",
      "prep_data/wav_data/A30002W3\n",
      "('wav_data', 'A30002W4.wav')\n",
      "audio_filename: wav_data/A30002W4.wav\n",
      "Copying wav_data/A30002W4.wav ...\n",
      "prep_data/wav_data/A30002W4.wav\n",
      "True\n",
      "prep_data/wav_data/A30002W4\n",
      "('wav_data', 'A30002X1.wav')\n",
      "audio_filename: wav_data/A30002X1.wav\n",
      "Copying wav_data/A30002X1.wav ...\n",
      "prep_data/wav_data/A30002X1.wav\n",
      "True\n"
     ]
    },
    {
     "name": "stderr",
     "output_type": "stream",
     "text": [
      "\r",
      "Extracting features of wav_data:  73%|██████████████████████████████████▍            | 150/205 [00:16<00:06,  8.80it/s]"
     ]
    },
    {
     "name": "stdout",
     "output_type": "stream",
     "text": [
      "prep_data/wav_data/A30002X1\n",
      "('wav_data', 'A30002X2.wav')\n",
      "audio_filename: wav_data/A30002X2.wav\n",
      "Copying wav_data/A30002X2.wav ...\n",
      "prep_data/wav_data/A30002X2.wav\n",
      "True\n",
      "prep_data/wav_data/A30002X2\n",
      "('wav_data', 'A30002X3.wav')\n",
      "audio_filename: wav_data/A30002X3.wav\n",
      "Copying wav_data/A30002X3.wav ...\n",
      "prep_data/wav_data/A30002X3.wav\n",
      "True\n",
      "prep_data/wav_data/A30002X3"
     ]
    },
    {
     "name": "stderr",
     "output_type": "stream",
     "text": [
      "\r",
      "Extracting features of wav_data:  74%|██████████████████████████████████▊            | 152/205 [00:17<00:06,  8.83it/s]"
     ]
    },
    {
     "name": "stdout",
     "output_type": "stream",
     "text": [
      "\n",
      "('wav_data', 'A30002X4.wav')\n",
      "audio_filename: wav_data/A30002X4.wav\n",
      "Copying wav_data/A30002X4.wav ...\n",
      "prep_data/wav_data/A30002X4.wav\n",
      "True\n",
      "prep_data/wav_data/A30002X4\n",
      "('wav_data', 'A30002X5.wav')\n",
      "audio_filename: wav_data/A30002X5.wav\n",
      "Copying wav_data/A30002X5.wav ...\n",
      "prep_data/wav_data/A30002X5.wav\n",
      "True\n"
     ]
    },
    {
     "name": "stderr",
     "output_type": "stream",
     "text": [
      "Extracting features of wav_data:  75%|███████████████████████████████████▎           | 154/205 [00:17<00:06,  8.14it/s]"
     ]
    },
    {
     "name": "stdout",
     "output_type": "stream",
     "text": [
      "prep_data/wav_data/A30002X5\n",
      "('wav_data', 'A30002X6.wav')\n",
      "audio_filename: wav_data/A30002X6.wav\n",
      "Copying wav_data/A30002X6.wav ...\n",
      "prep_data/wav_data/A30002X6.wav\n",
      "True\n",
      "prep_data/wav_data/A30002X6\n",
      "('wav_data', 'A30003A1.wav')\n",
      "audio_filename: wav_data/A30003A1.wav\n",
      "Copying wav_data/A30003A1.wav ...\n",
      "prep_data/wav_data/A30003A1.wav\n",
      "True\n",
      "prep_data/wav_data/A30003A1\n",
      "('wav_data', 'A30003A2.wav')\n",
      "audio_filename: wav_data/A30003A2.wav\n",
      "Copying wav_data/A30003A2.wav ...\n",
      "prep_data/wav_data/A30003A2.wav\n",
      "True\n"
     ]
    },
    {
     "name": "stderr",
     "output_type": "stream",
     "text": [
      "\r",
      "Extracting features of wav_data:  76%|███████████████████████████████████▊           | 156/205 [00:17<00:05,  9.46it/s]"
     ]
    },
    {
     "name": "stdout",
     "output_type": "stream",
     "text": [
      "prep_data/wav_data/A30003A2\n",
      "('wav_data', 'A30003A3.wav')\n",
      "audio_filename: wav_data/A30003A3.wav\n",
      "Copying wav_data/A30003A3.wav ...\n",
      "prep_data/wav_data/A30003A3.wav\n",
      "True\n",
      "prep_data/wav_data/A30003A3\n",
      "('wav_data', 'A30003A4.wav')\n",
      "audio_filename: wav_data/A30003A4.wav\n",
      "Copying wav_data/A30003A4.wav ...\n",
      "prep_data/wav_data/A30003A4.wav\n",
      "True\n"
     ]
    },
    {
     "name": "stderr",
     "output_type": "stream",
     "text": [
      "Extracting features of wav_data:  78%|████████████████████████████████████▋          | 160/205 [00:17<00:04,  9.93it/s]"
     ]
    },
    {
     "name": "stdout",
     "output_type": "stream",
     "text": [
      "prep_data/wav_data/A30003A4\n",
      "('wav_data', 'A30003A5.wav')\n",
      "audio_filename: wav_data/A30003A5.wav\n",
      "Copying wav_data/A30003A5.wav ...\n",
      "prep_data/wav_data/A30003A5.wav\n",
      "True\n",
      "prep_data/wav_data/A30003A5\n",
      "('wav_data', 'A30003A6.wav')\n",
      "audio_filename: wav_data/A30003A6.wav\n",
      "Copying wav_data/A30003A6.wav ...\n",
      "prep_data/wav_data/A30003A6.wav\n",
      "True\n",
      "prep_data/wav_data/A30003A6\n",
      "('wav_data', 'A30003B1.wav')\n",
      "audio_filename: wav_data/A30003B1.wav\n",
      "Copying wav_data/A30003B1.wav ...\n",
      "prep_data/wav_data/A30003B1.wav\n",
      "True\n"
     ]
    },
    {
     "name": "stderr",
     "output_type": "stream",
     "text": [
      "\r",
      "Extracting features of wav_data:  79%|█████████████████████████████████████▏         | 162/205 [00:18<00:04,  9.32it/s]"
     ]
    },
    {
     "name": "stdout",
     "output_type": "stream",
     "text": [
      "prep_data/wav_data/A30003B1\n",
      "('wav_data', 'A30003C1.wav')\n",
      "audio_filename: wav_data/A30003C1.wav\n",
      "Copying wav_data/A30003C1.wav ...\n",
      "prep_data/wav_data/A30003C1.wav\n",
      "True\n",
      "prep_data/wav_data/A30003C1\n",
      "('wav_data', 'A30003C2.wav')\n",
      "audio_filename: wav_data/A30003C2.wav\n",
      "Copying wav_data/A30003C2.wav ...\n",
      "prep_data/wav_data/A30003C2.wav\n",
      "True\n",
      "prep_data/wav_data/A30003C2\n",
      "('wav_data', 'A30003C3.wav')\n",
      "audio_filename: wav_data/A30003C3.wav\n",
      "Copying wav_data/A30003C3.wav ...\n",
      "prep_data/wav_data/A30003C3.wav\n",
      "True\n",
      "prep_data/wav_data/A30003C3"
     ]
    },
    {
     "name": "stderr",
     "output_type": "stream",
     "text": [
      "Extracting features of wav_data:  80%|█████████████████████████████████████▊         | 165/205 [00:18<00:05,  7.88it/s]"
     ]
    },
    {
     "name": "stdout",
     "output_type": "stream",
     "text": [
      "\n",
      "('wav_data', 'A30003C4.wav')\n",
      "audio_filename: wav_data/A30003C4.wav\n",
      "Copying wav_data/A30003C4.wav ...\n",
      "prep_data/wav_data/A30003C4.wav\n",
      "True\n",
      "prep_data/wav_data/A30003C4\n",
      "('wav_data', 'A30003D1.wav')\n",
      "audio_filename: wav_data/A30003D1.wav\n",
      "Copying wav_data/A30003D1.wav ...\n",
      "prep_data/wav_data/A30003D1.wav\n",
      "True\n"
     ]
    },
    {
     "name": "stderr",
     "output_type": "stream",
     "text": [
      "\r",
      "Extracting features of wav_data:  81%|██████████████████████████████████████         | 166/205 [00:18<00:04,  8.02it/s]"
     ]
    },
    {
     "name": "stdout",
     "output_type": "stream",
     "text": [
      "prep_data/wav_data/A30003D1\n",
      "('wav_data', 'A30003D2.wav')\n",
      "audio_filename: wav_data/A30003D2.wav\n",
      "Copying wav_data/A30003D2.wav ...\n",
      "prep_data/wav_data/A30003D2.wav\n",
      "True\n",
      "prep_data/wav_data/A30003D2\n",
      "('wav_data', 'A30003D3.wav')\n",
      "audio_filename: wav_data/A30003D3.wav\n",
      "Copying wav_data/A30003D3.wav ...\n",
      "prep_data/wav_data/A30003D3.wav\n",
      "True\n"
     ]
    },
    {
     "name": "stderr",
     "output_type": "stream",
     "text": [
      "Extracting features of wav_data:  83%|██████████████████████████████████████▉        | 170/205 [00:19<00:03,  9.50it/s]"
     ]
    },
    {
     "name": "stdout",
     "output_type": "stream",
     "text": [
      "prep_data/wav_data/A30003D3\n",
      "('wav_data', 'A30003E1.wav')\n",
      "audio_filename: wav_data/A30003E1.wav\n",
      "Copying wav_data/A30003E1.wav ...\n",
      "prep_data/wav_data/A30003E1.wav\n",
      "True\n",
      "prep_data/wav_data/A30003E1\n",
      "('wav_data', 'A30003I1.wav')\n",
      "audio_filename: wav_data/A30003I1.wav\n",
      "Copying wav_data/A30003I1.wav ...\n",
      "prep_data/wav_data/A30003I1.wav\n",
      "True\n",
      "prep_data/wav_data/A30003I1\n",
      "('wav_data', 'A30003L1.wav')\n",
      "audio_filename: wav_data/A30003L1.wav\n",
      "Copying wav_data/A30003L1.wav ...\n",
      "prep_data/wav_data/A30003L1.wav\n",
      "True\n"
     ]
    },
    {
     "name": "stderr",
     "output_type": "stream",
     "text": [
      "\r",
      "Extracting features of wav_data:  84%|███████████████████████████████████████▍       | 172/205 [00:19<00:03,  9.49it/s]"
     ]
    },
    {
     "name": "stdout",
     "output_type": "stream",
     "text": [
      "prep_data/wav_data/A30003L1\n",
      "('wav_data', 'A30003L2.wav')\n",
      "audio_filename: wav_data/A30003L2.wav\n",
      "Copying wav_data/A30003L2.wav ...\n",
      "prep_data/wav_data/A30003L2.wav\n",
      "True\n",
      "prep_data/wav_data/A30003L2\n",
      "('wav_data', 'A30003L3.wav')\n",
      "audio_filename: wav_data/A30003L3.wav\n",
      "Copying wav_data/A30003L3.wav ...\n",
      "prep_data/wav_data/A30003L3.wav\n",
      "True\n",
      "prep_data/wav_data/A30003L3\n",
      "('wav_data', 'A30003M1.wav')\n",
      "audio_filename: wav_data/A30003M1.wav\n",
      "Copying wav_data/A30003M1.wav ...\n",
      "prep_data/wav_data/A30003M1.wav\n",
      "True\n",
      "prep_data/wav_data/A30003M1"
     ]
    },
    {
     "name": "stderr",
     "output_type": "stream",
     "text": [
      "Extracting features of wav_data:  85%|████████████████████████████████████████       | 175/205 [00:19<00:04,  7.41it/s]"
     ]
    },
    {
     "name": "stdout",
     "output_type": "stream",
     "text": [
      "\n",
      "('wav_data', 'A30003M2.wav')\n",
      "audio_filename: wav_data/A30003M2.wav\n",
      "Copying wav_data/A30003M2.wav ...\n",
      "prep_data/wav_data/A30003M2.wav\n",
      "True\n",
      "prep_data/wav_data/A30003M2\n",
      "('wav_data', 'A30003N1.wav')\n",
      "audio_filename: wav_data/A30003N1.wav\n",
      "Copying wav_data/A30003N1.wav ...\n",
      "prep_data/wav_data/A30003N1.wav\n",
      "True\n"
     ]
    },
    {
     "name": "stderr",
     "output_type": "stream",
     "text": [
      "Extracting features of wav_data:  87%|████████████████████████████████████████▊      | 178/205 [00:20<00:02,  9.25it/s]"
     ]
    },
    {
     "name": "stdout",
     "output_type": "stream",
     "text": [
      "prep_data/wav_data/A30003N1\n",
      "('wav_data', 'A30003O1.wav')\n",
      "audio_filename: wav_data/A30003O1.wav\n",
      "Copying wav_data/A30003O1.wav ...\n",
      "prep_data/wav_data/A30003O1.wav\n",
      "True\n",
      "prep_data/wav_data/A30003O1\n",
      "('wav_data', 'A30003O2.wav')\n",
      "audio_filename: wav_data/A30003O2.wav\n",
      "Copying wav_data/A30003O2.wav ...\n",
      "prep_data/wav_data/A30003O2.wav\n",
      "True\n",
      "prep_data/wav_data/A30003O2\n",
      "('wav_data', 'A30003O3.wav')\n",
      "audio_filename: wav_data/A30003O3.wav\n",
      "Copying wav_data/A30003O3.wav ...\n",
      "prep_data/wav_data/A30003O3.wav\n",
      "True\n",
      "prep_data/wav_data/A30003O3"
     ]
    },
    {
     "name": "stderr",
     "output_type": "stream",
     "text": [
      "\r",
      "Extracting features of wav_data:  88%|█████████████████████████████████████████▎     | 180/205 [00:20<00:02,  9.50it/s]"
     ]
    },
    {
     "name": "stdout",
     "output_type": "stream",
     "text": [
      "\n",
      "('wav_data', 'A30003O5.wav')\n",
      "audio_filename: wav_data/A30003O5.wav\n",
      "Copying wav_data/A30003O5.wav ...\n",
      "prep_data/wav_data/A30003O5.wav\n",
      "True\n",
      "prep_data/wav_data/A30003O5\n",
      "('wav_data', 'A30003O7.wav')\n",
      "audio_filename: wav_data/A30003O7.wav\n",
      "Copying wav_data/A30003O7.wav ...\n",
      "prep_data/wav_data/A30003O7.wav\n",
      "True\n",
      "prep_data/wav_data/A30003O7\n"
     ]
    },
    {
     "name": "stderr",
     "output_type": "stream",
     "text": [
      "\r",
      "Extracting features of wav_data:  89%|█████████████████████████████████████████▋     | 182/205 [00:20<00:02, 10.61it/s]"
     ]
    },
    {
     "name": "stdout",
     "output_type": "stream",
     "text": [
      "('wav_data', 'A30003O8.wav')\n",
      "audio_filename: wav_data/A30003O8.wav\n",
      "Copying wav_data/A30003O8.wav ...\n",
      "prep_data/wav_data/A30003O8.wav\n",
      "True\n",
      "prep_data/wav_data/A30003O8\n",
      "('wav_data', 'A30003Q1.wav')\n",
      "audio_filename: wav_data/A30003Q1.wav\n",
      "Copying wav_data/A30003Q1.wav ...\n",
      "prep_data/wav_data/A30003Q1.wav\n",
      "True\n",
      "prep_data/wav_data/A30003Q1\n",
      "('wav_data', 'A30003Q2.wav')\n",
      "audio_filename: wav_data/A30003Q2.wav\n",
      "Copying wav_data/A30003Q2.wav ...\n",
      "prep_data/wav_data/A30003Q2.wav\n",
      "True\n"
     ]
    },
    {
     "name": "stderr",
     "output_type": "stream",
     "text": [
      "\r",
      "Extracting features of wav_data:  90%|██████████████████████████████████████████▏    | 184/205 [00:20<00:01, 11.49it/s]"
     ]
    },
    {
     "name": "stdout",
     "output_type": "stream",
     "text": [
      "prep_data/wav_data/A30003Q2\n",
      "('wav_data', 'A30003S1.wav')\n",
      "audio_filename: wav_data/A30003S1.wav\n",
      "Copying wav_data/A30003S1.wav ...\n",
      "prep_data/wav_data/A30003S1.wav\n",
      "True\n",
      "prep_data/wav_data/A30003S1\n",
      "('wav_data', 'A30003S2.wav')\n",
      "audio_filename: wav_data/A30003S2.wav\n",
      "Copying wav_data/A30003S2.wav ...\n",
      "prep_data/wav_data/A30003S2.wav\n",
      "True\n"
     ]
    },
    {
     "name": "stderr",
     "output_type": "stream",
     "text": [
      "\r",
      "Extracting features of wav_data:  91%|██████████████████████████████████████████▋    | 186/205 [00:20<00:02,  8.89it/s]"
     ]
    },
    {
     "name": "stdout",
     "output_type": "stream",
     "text": [
      "prep_data/wav_data/A30003S2\n",
      "('wav_data', 'A30003S3.wav')\n",
      "audio_filename: wav_data/A30003S3.wav\n",
      "Copying wav_data/A30003S3.wav ...\n",
      "prep_data/wav_data/A30003S3.wav\n",
      "True\n",
      "prep_data/wav_data/A30003S3\n",
      "('wav_data', 'A30003S4.wav')\n",
      "audio_filename: wav_data/A30003S4.wav\n",
      "Copying wav_data/A30003S4.wav ...\n",
      "prep_data/wav_data/A30003S4.wav\n",
      "True\n"
     ]
    },
    {
     "name": "stderr",
     "output_type": "stream",
     "text": [
      "\r",
      "Extracting features of wav_data:  92%|███████████████████████████████████████████    | 188/205 [00:21<00:02,  6.82it/s]"
     ]
    },
    {
     "name": "stdout",
     "output_type": "stream",
     "text": [
      "prep_data/wav_data/A30003S4\n",
      "('wav_data', 'A30003S5.wav')\n",
      "audio_filename: wav_data/A30003S5.wav\n",
      "Copying wav_data/A30003S5.wav ...\n",
      "prep_data/wav_data/A30003S5.wav\n",
      "True\n"
     ]
    },
    {
     "name": "stderr",
     "output_type": "stream",
     "text": [
      "\r",
      "Extracting features of wav_data:  92%|███████████████████████████████████████████▎   | 189/205 [00:21<00:02,  5.73it/s]"
     ]
    },
    {
     "name": "stdout",
     "output_type": "stream",
     "text": [
      "prep_data/wav_data/A30003S5\n",
      "('wav_data', 'A30003S6.wav')\n",
      "audio_filename: wav_data/A30003S6.wav\n",
      "Copying wav_data/A30003S6.wav ...\n",
      "prep_data/wav_data/A30003S6.wav\n",
      "True\n"
     ]
    },
    {
     "name": "stderr",
     "output_type": "stream",
     "text": [
      "\r",
      "Extracting features of wav_data:  93%|███████████████████████████████████████████▌   | 190/205 [00:21<00:03,  4.55it/s]"
     ]
    },
    {
     "name": "stdout",
     "output_type": "stream",
     "text": [
      "prep_data/wav_data/A30003S6\n",
      "('wav_data', 'A30003S7.wav')\n",
      "audio_filename: wav_data/A30003S7.wav\n",
      "Copying wav_data/A30003S7.wav ...\n",
      "prep_data/wav_data/A30003S7.wav\n",
      "True\n",
      "prep_data/wav_data/A30003S7"
     ]
    },
    {
     "name": "stderr",
     "output_type": "stream",
     "text": [
      "Extracting features of wav_data:  94%|████████████████████████████████████████████   | 192/205 [00:22<00:02,  5.05it/s]"
     ]
    },
    {
     "name": "stdout",
     "output_type": "stream",
     "text": [
      "\n",
      "('wav_data', 'A30003S8.wav')\n",
      "audio_filename: wav_data/A30003S8.wav\n",
      "Copying wav_data/A30003S8.wav ...\n",
      "prep_data/wav_data/A30003S8.wav\n",
      "True\n",
      "prep_data/wav_data/A30003S8\n",
      "('wav_data', 'A30003S9.wav')\n",
      "audio_filename: wav_data/A30003S9.wav\n",
      "Copying wav_data/A30003S9.wav ...\n",
      "prep_data/wav_data/A30003S9.wav\n",
      "True\n"
     ]
    },
    {
     "name": "stderr",
     "output_type": "stream",
     "text": [
      "\r",
      "Extracting features of wav_data:  94%|████████████████████████████████████████████▏  | 193/205 [00:22<00:02,  5.39it/s]"
     ]
    },
    {
     "name": "stdout",
     "output_type": "stream",
     "text": [
      "prep_data/wav_data/A30003S9\n",
      "('wav_data', 'A30003T1.wav')\n",
      "audio_filename: wav_data/A30003T1.wav\n",
      "Copying wav_data/A30003T1.wav ...\n",
      "prep_data/wav_data/A30003T1.wav\n",
      "True\n",
      "prep_data/wav_data/A30003T1\n",
      "('wav_data', 'A30003T2.wav')\n",
      "audio_filename: wav_data/A30003T2.wav\n",
      "Copying wav_data/A30003T2.wav ...\n",
      "prep_data/wav_data/A30003T2.wav\n",
      "True\n",
      "prep_data/wav_data/A30003T2"
     ]
    },
    {
     "name": "stderr",
     "output_type": "stream",
     "text": [
      "\r",
      "Extracting features of wav_data:  95%|████████████████████████████████████████████▋  | 195/205 [00:22<00:01,  6.32it/s]"
     ]
    },
    {
     "name": "stdout",
     "output_type": "stream",
     "text": [
      "\n",
      "('wav_data', 'A30003W1.wav')\n",
      "audio_filename: wav_data/A30003W1.wav\n",
      "Copying wav_data/A30003W1.wav ...\n",
      "prep_data/wav_data/A30003W1.wav\n",
      "True\n",
      "prep_data/wav_data/A30003W1"
     ]
    },
    {
     "name": "stderr",
     "output_type": "stream",
     "text": [
      "\r",
      "Extracting features of wav_data:  96%|████████████████████████████████████████████▉  | 196/205 [00:22<00:01,  5.91it/s]"
     ]
    },
    {
     "name": "stdout",
     "output_type": "stream",
     "text": [
      "\n",
      "('wav_data', 'A30003W2.wav')\n",
      "audio_filename: wav_data/A30003W2.wav\n",
      "Copying wav_data/A30003W2.wav ...\n",
      "prep_data/wav_data/A30003W2.wav\n",
      "True\n",
      "prep_data/wav_data/A30003W2\n",
      "('wav_data', 'A30003W3.wav')\n",
      "audio_filename: wav_data/A30003W3.wav\n",
      "Copying wav_data/A30003W3.wav ...\n",
      "prep_data/wav_data/A30003W3.wav\n",
      "True\n",
      "prep_data/wav_data/A30003W3\n"
     ]
    },
    {
     "name": "stderr",
     "output_type": "stream",
     "text": [
      "\r",
      "Extracting features of wav_data:  97%|█████████████████████████████████████████████▍ | 198/205 [00:22<00:01,  6.93it/s]"
     ]
    },
    {
     "name": "stdout",
     "output_type": "stream",
     "text": [
      "('wav_data', 'A30003W4.wav')\n",
      "audio_filename: wav_data/A30003W4.wav\n",
      "Copying wav_data/A30003W4.wav ...\n",
      "prep_data/wav_data/A30003W4.wav\n",
      "True\n",
      "prep_data/wav_data/A30003W4\n",
      "('wav_data', 'A30003X1.wav')\n",
      "audio_filename: wav_data/A30003X1.wav\n",
      "Copying wav_data/A30003X1.wav ...\n",
      "prep_data/wav_data/A30003X1.wav\n",
      "True\n",
      "prep_data/wav_data/A30003X1"
     ]
    },
    {
     "name": "stderr",
     "output_type": "stream",
     "text": [
      "\r",
      "Extracting features of wav_data:  98%|█████████████████████████████████████████████▊ | 200/205 [00:23<00:00,  7.57it/s]"
     ]
    },
    {
     "name": "stdout",
     "output_type": "stream",
     "text": [
      "\n",
      "('wav_data', 'A30003X2.wav')\n",
      "audio_filename: wav_data/A30003X2.wav\n",
      "Copying wav_data/A30003X2.wav ...\n",
      "prep_data/wav_data/A30003X2.wav\n",
      "True\n",
      "prep_data/wav_data/A30003X2\n",
      "('wav_data', 'A30003X3.wav')\n",
      "audio_filename: wav_data/A30003X3.wav\n",
      "Copying wav_data/A30003X3.wav ...\n",
      "prep_data/wav_data/A30003X3.wav\n",
      "True\n"
     ]
    },
    {
     "name": "stderr",
     "output_type": "stream",
     "text": [
      "\r",
      "Extracting features of wav_data:  99%|██████████████████████████████████████████████▎| 202/205 [00:23<00:00,  7.79it/s]"
     ]
    },
    {
     "name": "stdout",
     "output_type": "stream",
     "text": [
      "prep_data/wav_data/A30003X3\n",
      "('wav_data', 'A30003X4.wav')\n",
      "audio_filename: wav_data/A30003X4.wav\n",
      "Copying wav_data/A30003X4.wav ...\n",
      "prep_data/wav_data/A30003X4.wav\n",
      "True\n",
      "prep_data/wav_data/A30003X4\n",
      "('wav_data', 'A30003X5.wav')\n",
      "audio_filename: wav_data/A30003X5.wav\n",
      "Copying wav_data/A30003X5.wav ...\n",
      "prep_data/wav_data/A30003X5.wav\n",
      "True\n"
     ]
    },
    {
     "name": "stderr",
     "output_type": "stream",
     "text": [
      "Extracting features of wav_data: 100%|███████████████████████████████████████████████| 205/205 [00:23<00:00,  8.65it/s]"
     ]
    },
    {
     "name": "stdout",
     "output_type": "stream",
     "text": [
      "prep_data/wav_data/A30003X5\n",
      "('wav_data', 'A30003X6.wav')\n",
      "audio_filename: wav_data/A30003X6.wav\n",
      "Copying wav_data/A30003X6.wav ...\n",
      "prep_data/wav_data/A30003X6.wav\n",
      "True\n",
      "prep_data/wav_data/A30003X6\n"
     ]
    },
    {
     "name": "stderr",
     "output_type": "stream",
     "text": [
      "\n"
     ]
    }
   ],
   "source": [
    "for i, audio_file in tqdm(list(enumerate(audio_files)), f\"Extracting features of {folder_name}\"):\n",
    "#     print('A')\n",
    "    splited = os.path.split(audio_file)\n",
    "    print(splited)\n",
    "    # audio_filename = os.path.join(os.path.split(splited[0])[-1], splited[-1])\n",
    "    audio_filename = f\"{os.path.split(splited[0])[-1]}/{splited[-1]}\"\n",
    "#     print(audio_filename)\n",
    "    print(\"audio_filename:\", audio_filename)\n",
    "    if audio_filename in all_audio_filenames:\n",
    "        print(\"Copying\", audio_filename, \"...\")\n",
    "        src_path = f\"{audio_filename}\"\n",
    "#         print(audio_filename)\n",
    "        target_path = f\"prep_data/{audio_filename}\"\n",
    "        print(target_path)\n",
    "        print(os.path.isdir(os.path.dirname(target_path)))\n",
    "#         if not os.path.isdir(os.path.dirname(target_path)):\n",
    "#             os.mkdir(os.path.dirname(target_path))\n",
    "        features = extract_feature(src_path, mel=True)\n",
    "#         print('A')\n",
    "#         print(features)\n",
    "#         print('B')\n",
    "        target_filename = target_path.split(\".\")[0]\n",
    "        print(target_filename)\n",
    "        np.save(target_filename, features)\n",
    "            # shutil.copyfile(src_path, target_path)\n"
   ]
  },
  {
   "cell_type": "markdown",
   "metadata": {},
   "source": [
    "# Создание нейронной сети"
   ]
  },
  {
   "cell_type": "markdown",
   "metadata": {},
   "source": [
    "## Для теста модели запустить ЭТУ ячейку"
   ]
  },
  {
   "cell_type": "code",
   "execution_count": 3,
   "metadata": {},
   "outputs": [],
   "source": [
    "import pandas as pd\n",
    "import numpy as np\n",
    "import os\n",
    "import tqdm\n",
    "from tensorflow.keras.models import Sequential\n",
    "from tensorflow.keras.layers import Dense, LSTM, Dropout\n",
    "from tensorflow.keras.callbacks import ModelCheckpoint, TensorBoard, EarlyStopping\n",
    "from sklearn.model_selection import train_test_split"
   ]
  },
  {
   "cell_type": "code",
   "execution_count": 12,
   "metadata": {},
   "outputs": [
    {
     "name": "stdout",
     "output_type": "stream",
     "text": [
      "Total samples: 205\n",
      "Total male samples: 102\n",
      "Total female samples: 103\n"
     ]
    }
   ],
   "source": [
    "n_samples = len(df)\n",
    "n_male_samples = len(df[df['Gender'] == 'm'])\n",
    "n_female_samples = len(df[df['Gender'] == 'f'])\n",
    "print(\"Total samples:\", n_samples)\n",
    "print(\"Total male samples:\", n_male_samples)\n",
    "print(\"Total female samples:\", n_female_samples)"
   ]
  },
  {
   "cell_type": "code",
   "execution_count": 28,
   "metadata": {},
   "outputs": [],
   "source": [
    "with open('f_npy.txt', 'r') as f:\n",
    "    content = f.readlines()\n",
    "\n",
    "files = []\n",
    "\n",
    "for i in content:\n",
    "    i = 'prep_data/wav_data/' + i\n",
    "    files.append(i.strip('\\n'))\n",
    "    \n",
    "fem = pd.DataFrame()\n",
    "fem['File'] = files\n",
    "fem['Gender'] = 'f'\n",
    "fem.head()\n",
    "\n",
    "with open('m_npy.txt', 'r') as f:\n",
    "    content = f.readlines()\n",
    "\n",
    "files = []\n",
    "\n",
    "for i in content:\n",
    "    i = 'prep_data/wav_data/' + i\n",
    "    files.append(i.strip('\\n'))\n",
    "    \n",
    "male = pd.DataFrame()\n",
    "male['File'] = files\n",
    "male['Gender'] = 'm'\n",
    "male.head()\n",
    "\n",
    "frames = [fem, male]\n",
    "df = pd.concat(frames, sort=True)\n",
    "df.reset_index(drop=True, inplace=True)\n",
    "df.to_csv('new_data.csv')"
   ]
  },
  {
   "cell_type": "code",
   "execution_count": 4,
   "metadata": {},
   "outputs": [],
   "source": [
    "def load_data(vector_length=128):\n",
    "    if not os.path.isdir(\"results\"):\n",
    "        os.mkdir(\"results\")\n",
    "    if os.path.isfile(\"results/features.npy\") and os.path.isfile(\"results/labels.npy\"):\n",
    "        X = np.load(\"results/features.npy\", allow_pickle=True)\n",
    "        y = np.load(\"results/labels.npy\", allow_pickle=True)\n",
    "        return X, y\n",
    "    df = pd.read_csv(\"new_data.csv\")\n",
    "    n_samples = len(df)\n",
    "    n_male_samples = len(df[df['Gender'] == 'm'])\n",
    "    n_female_samples = len(df[df['Gender'] == 'f'])\n",
    "    print(\"Total samples:\", n_samples)\n",
    "    print(\"Total male samples:\", n_male_samples)\n",
    "    print(\"Total female samples:\", n_female_samples)\n",
    "    X = np.zeros((n_samples, vector_length))\n",
    "    y = np.zeros((n_samples, 1))\n",
    "    for i, (filename, gender) in enumerate(zip(df['File'], df['Gender'])):\n",
    "        features = np.load(filename, allow_pickle=True)\n",
    "        X[i] = features\n",
    "        y[i] = label2int[gender]\n",
    "    np.save(\"results/features\", X)\n",
    "    np.save(\"results/labels\", y)\n",
    "    return X, y"
   ]
  },
  {
   "cell_type": "code",
   "execution_count": 5,
   "metadata": {},
   "outputs": [],
   "source": [
    "def split_data(X, y, test_size=0.1, valid_size=0.1):\n",
    "    X_train, X_test, y_train, y_test = train_test_split(X, y, test_size=test_size, random_state=7)\n",
    "    X_train, X_valid, y_train, y_valid = train_test_split(X_train, y_train, test_size=valid_size, random_state=7)\n",
    "    return {\n",
    "        \"X_train\": X_train,\n",
    "        \"X_valid\": X_valid,\n",
    "        \"X_test\": X_test,\n",
    "        \"y_train\": y_train,\n",
    "        \"y_valid\": y_valid,\n",
    "        \"y_test\": y_test\n",
    "    }"
   ]
  },
  {
   "cell_type": "code",
   "execution_count": 6,
   "metadata": {},
   "outputs": [],
   "source": [
    "label2int = {\n",
    "    \"m\": 1,\n",
    "    \"f\": 0\n",
    "}"
   ]
  },
  {
   "cell_type": "code",
   "execution_count": 32,
   "metadata": {},
   "outputs": [
    {
     "name": "stdout",
     "output_type": "stream",
     "text": [
      "Total samples: 204\n",
      "Total male samples: 102\n",
      "Total female samples: 102\n"
     ]
    }
   ],
   "source": [
    "X, y = load_data()\n",
    "data = split_data(X, y, test_size=0.1, valid_size=0.1)"
   ]
  },
  {
   "cell_type": "markdown",
   "metadata": {},
   "source": [
    "## Для теста модели запустить ЭТУ ячейку"
   ]
  },
  {
   "cell_type": "code",
   "execution_count": 7,
   "metadata": {},
   "outputs": [],
   "source": [
    "def create_model(vector_length=128):\n",
    "    model = Sequential()\n",
    "    model.add(Dense(256, input_shape=(vector_length,)))\n",
    "    model.add(Dropout(0.3))\n",
    "    model.add(Dense(256, activation=\"relu\"))\n",
    "    model.add(Dropout(0.3))\n",
    "    model.add(Dense(128, activation=\"relu\"))\n",
    "    model.add(Dropout(0.3))\n",
    "    model.add(Dense(128, activation=\"relu\"))\n",
    "    model.add(Dropout(0.3))\n",
    "    model.add(Dense(64, activation=\"relu\"))\n",
    "    model.add(Dropout(0.3))\n",
    "    model.add(Dense(1, activation=\"sigmoid\"))\n",
    "    model.compile(loss=\"binary_crossentropy\", metrics=[\"accuracy\"], optimizer=\"adam\")\n",
    "    model.summary()\n",
    "    return model"
   ]
  },
  {
   "cell_type": "code",
   "execution_count": 34,
   "metadata": {},
   "outputs": [
    {
     "name": "stdout",
     "output_type": "stream",
     "text": [
      "Model: \"sequential\"\n",
      "_________________________________________________________________\n",
      "Layer (type)                 Output Shape              Param #   \n",
      "=================================================================\n",
      "dense (Dense)                (None, 256)               33024     \n",
      "_________________________________________________________________\n",
      "dropout (Dropout)            (None, 256)               0         \n",
      "_________________________________________________________________\n",
      "dense_1 (Dense)              (None, 256)               65792     \n",
      "_________________________________________________________________\n",
      "dropout_1 (Dropout)          (None, 256)               0         \n",
      "_________________________________________________________________\n",
      "dense_2 (Dense)              (None, 128)               32896     \n",
      "_________________________________________________________________\n",
      "dropout_2 (Dropout)          (None, 128)               0         \n",
      "_________________________________________________________________\n",
      "dense_3 (Dense)              (None, 128)               16512     \n",
      "_________________________________________________________________\n",
      "dropout_3 (Dropout)          (None, 128)               0         \n",
      "_________________________________________________________________\n",
      "dense_4 (Dense)              (None, 64)                8256      \n",
      "_________________________________________________________________\n",
      "dropout_4 (Dropout)          (None, 64)                0         \n",
      "_________________________________________________________________\n",
      "dense_5 (Dense)              (None, 1)                 65        \n",
      "=================================================================\n",
      "Total params: 156,545\n",
      "Trainable params: 156,545\n",
      "Non-trainable params: 0\n",
      "_________________________________________________________________\n"
     ]
    }
   ],
   "source": [
    "model = create_model()"
   ]
  },
  {
   "cell_type": "code",
   "execution_count": 35,
   "metadata": {
    "scrolled": false
   },
   "outputs": [
    {
     "name": "stdout",
     "output_type": "stream",
     "text": [
      "Epoch 1/100\n",
      "1/3 [=========>....................] - ETA: 0s - loss: 0.8999 - accuracy: 0.4062WARNING:tensorflow:From D:\\anaconda\\lib\\site-packages\\tensorflow\\python\\ops\\summary_ops_v2.py:1277: stop (from tensorflow.python.eager.profiler) is deprecated and will be removed after 2020-07-01.\n",
      "Instructions for updating:\n",
      "use `tf.profiler.experimental.stop` instead.\n",
      "WARNING:tensorflow:Callbacks method `on_train_batch_end` is slow compared to the batch time (batch time: 0.0030s vs `on_train_batch_end` time: 0.0249s). Check your callbacks.\n",
      "3/3 [==============================] - 0s 62ms/step - loss: 0.8270 - accuracy: 0.4512 - val_loss: 0.7703 - val_accuracy: 0.7368\n",
      "Epoch 2/100\n",
      "3/3 [==============================] - 0s 9ms/step - loss: 0.7127 - accuracy: 0.6463 - val_loss: 0.7033 - val_accuracy: 0.9474\n",
      "Epoch 3/100\n",
      "3/3 [==============================] - 0s 8ms/step - loss: 0.6068 - accuracy: 0.6890 - val_loss: 0.6797 - val_accuracy: 0.9474\n",
      "Epoch 4/100\n",
      "3/3 [==============================] - 0s 9ms/step - loss: 0.5762 - accuracy: 0.7561 - val_loss: 0.6291 - val_accuracy: 0.9474\n",
      "Epoch 5/100\n",
      "3/3 [==============================] - 0s 9ms/step - loss: 0.5894 - accuracy: 0.7744 - val_loss: 0.4654 - val_accuracy: 0.9474\n",
      "Epoch 6/100\n",
      "3/3 [==============================] - 0s 8ms/step - loss: 0.5423 - accuracy: 0.7134 - val_loss: 0.3329 - val_accuracy: 1.0000\n",
      "Epoch 7/100\n",
      "3/3 [==============================] - 0s 8ms/step - loss: 0.4658 - accuracy: 0.8110 - val_loss: 0.3190 - val_accuracy: 1.0000\n",
      "Epoch 8/100\n",
      "3/3 [==============================] - 0s 8ms/step - loss: 0.4389 - accuracy: 0.8598 - val_loss: 0.4370 - val_accuracy: 0.9474\n",
      "Epoch 9/100\n",
      "3/3 [==============================] - 0s 8ms/step - loss: 0.3956 - accuracy: 0.8476 - val_loss: 0.6018 - val_accuracy: 0.9474\n",
      "Epoch 10/100\n",
      "3/3 [==============================] - 0s 7ms/step - loss: 0.3435 - accuracy: 0.9085 - val_loss: 0.6393 - val_accuracy: 0.9474\n",
      "Epoch 11/100\n",
      "3/3 [==============================] - 0s 7ms/step - loss: 0.3723 - accuracy: 0.8902 - val_loss: 0.4929 - val_accuracy: 0.9474\n",
      "Epoch 12/100\n",
      "3/3 [==============================] - 0s 7ms/step - loss: 0.3278 - accuracy: 0.9024 - val_loss: 0.1895 - val_accuracy: 0.9474\n",
      "Epoch 13/100\n",
      "3/3 [==============================] - 0s 8ms/step - loss: 0.2890 - accuracy: 0.8841 - val_loss: 0.1111 - val_accuracy: 1.0000\n",
      "Epoch 14/100\n",
      "3/3 [==============================] - 0s 8ms/step - loss: 0.2897 - accuracy: 0.8841 - val_loss: 0.0924 - val_accuracy: 1.0000\n",
      "Epoch 15/100\n",
      "3/3 [==============================] - 0s 9ms/step - loss: 0.2584 - accuracy: 0.9207 - val_loss: 0.0845 - val_accuracy: 1.0000\n",
      "Epoch 16/100\n",
      "3/3 [==============================] - 0s 8ms/step - loss: 0.2029 - accuracy: 0.9451 - val_loss: 0.0788 - val_accuracy: 1.0000\n",
      "Epoch 17/100\n",
      "3/3 [==============================] - 0s 7ms/step - loss: 0.1785 - accuracy: 0.9573 - val_loss: 0.0827 - val_accuracy: 1.0000\n",
      "Epoch 18/100\n",
      "3/3 [==============================] - 0s 8ms/step - loss: 0.1528 - accuracy: 0.9573 - val_loss: 0.0549 - val_accuracy: 1.0000\n",
      "Epoch 19/100\n",
      "3/3 [==============================] - 0s 7ms/step - loss: 0.1394 - accuracy: 0.9451 - val_loss: 0.0325 - val_accuracy: 1.0000\n",
      "Epoch 20/100\n",
      "3/3 [==============================] - 0s 7ms/step - loss: 0.1561 - accuracy: 0.9573 - val_loss: 0.0209 - val_accuracy: 1.0000\n",
      "Epoch 21/100\n",
      "3/3 [==============================] - 0s 8ms/step - loss: 0.1919 - accuracy: 0.9512 - val_loss: 0.0143 - val_accuracy: 1.0000\n",
      "Epoch 22/100\n",
      "3/3 [==============================] - 0s 8ms/step - loss: 0.1643 - accuracy: 0.9207 - val_loss: 0.0119 - val_accuracy: 1.0000\n",
      "Epoch 23/100\n",
      "3/3 [==============================] - 0s 7ms/step - loss: 0.1416 - accuracy: 0.9329 - val_loss: 0.0109 - val_accuracy: 1.0000\n",
      "Epoch 24/100\n",
      "3/3 [==============================] - 0s 8ms/step - loss: 0.1023 - accuracy: 0.9573 - val_loss: 0.0104 - val_accuracy: 1.0000\n",
      "Epoch 25/100\n",
      "3/3 [==============================] - 0s 8ms/step - loss: 0.1298 - accuracy: 0.9695 - val_loss: 0.0093 - val_accuracy: 1.0000\n",
      "Epoch 26/100\n",
      "3/3 [==============================] - 0s 7ms/step - loss: 0.0832 - accuracy: 0.9695 - val_loss: 0.0077 - val_accuracy: 1.0000\n",
      "Epoch 27/100\n",
      "3/3 [==============================] - 0s 8ms/step - loss: 0.2849 - accuracy: 0.9512 - val_loss: 0.0061 - val_accuracy: 1.0000\n",
      "Epoch 28/100\n",
      "3/3 [==============================] - 0s 8ms/step - loss: 0.0879 - accuracy: 0.9817 - val_loss: 0.0052 - val_accuracy: 1.0000\n",
      "Epoch 29/100\n",
      "3/3 [==============================] - 0s 8ms/step - loss: 0.1001 - accuracy: 0.9512 - val_loss: 0.0048 - val_accuracy: 1.0000\n",
      "Epoch 30/100\n",
      "3/3 [==============================] - 0s 8ms/step - loss: 0.1011 - accuracy: 0.9573 - val_loss: 0.0051 - val_accuracy: 1.0000\n",
      "Epoch 31/100\n",
      "3/3 [==============================] - 0s 7ms/step - loss: 0.0715 - accuracy: 0.9817 - val_loss: 0.0046 - val_accuracy: 1.0000\n",
      "Epoch 32/100\n",
      "3/3 [==============================] - 0s 9ms/step - loss: 0.0719 - accuracy: 0.9817 - val_loss: 0.0037 - val_accuracy: 1.0000\n",
      "Epoch 33/100\n",
      "3/3 [==============================] - 0s 8ms/step - loss: 0.0615 - accuracy: 0.9756 - val_loss: 0.0028 - val_accuracy: 1.0000\n",
      "Epoch 34/100\n",
      "3/3 [==============================] - 0s 7ms/step - loss: 0.0417 - accuracy: 0.9939 - val_loss: 0.0020 - val_accuracy: 1.0000\n",
      "Epoch 35/100\n",
      "3/3 [==============================] - 0s 8ms/step - loss: 0.0838 - accuracy: 0.9695 - val_loss: 0.0013 - val_accuracy: 1.0000\n",
      "Epoch 36/100\n",
      "3/3 [==============================] - 0s 7ms/step - loss: 0.0839 - accuracy: 0.9634 - val_loss: 0.0011 - val_accuracy: 1.0000\n",
      "Epoch 37/100\n",
      "3/3 [==============================] - 0s 8ms/step - loss: 0.0747 - accuracy: 0.9817 - val_loss: 0.0011 - val_accuracy: 1.0000\n",
      "Epoch 38/100\n",
      "3/3 [==============================] - 0s 8ms/step - loss: 0.0447 - accuracy: 0.9939 - val_loss: 0.0012 - val_accuracy: 1.0000\n",
      "Epoch 39/100\n",
      "3/3 [==============================] - 0s 7ms/step - loss: 0.0445 - accuracy: 0.9878 - val_loss: 0.0013 - val_accuracy: 1.0000\n",
      "Epoch 40/100\n",
      "3/3 [==============================] - 0s 7ms/step - loss: 0.0359 - accuracy: 0.9939 - val_loss: 0.0012 - val_accuracy: 1.0000\n",
      "Epoch 41/100\n",
      "3/3 [==============================] - 0s 7ms/step - loss: 0.0364 - accuracy: 0.9939 - val_loss: 8.3605e-04 - val_accuracy: 1.0000\n",
      "Epoch 42/100\n",
      "3/3 [==============================] - 0s 8ms/step - loss: 0.0411 - accuracy: 0.9878 - val_loss: 3.8932e-04 - val_accuracy: 1.0000\n",
      "Epoch 43/100\n",
      "3/3 [==============================] - 0s 7ms/step - loss: 0.0353 - accuracy: 0.9817 - val_loss: 2.5005e-04 - val_accuracy: 1.0000\n",
      "Epoch 44/100\n",
      "3/3 [==============================] - 0s 8ms/step - loss: 0.0315 - accuracy: 0.9878 - val_loss: 1.8050e-04 - val_accuracy: 1.0000\n",
      "Epoch 45/100\n",
      "3/3 [==============================] - 0s 8ms/step - loss: 0.0193 - accuracy: 1.0000 - val_loss: 1.5232e-04 - val_accuracy: 1.0000\n",
      "Epoch 46/100\n",
      "3/3 [==============================] - 0s 8ms/step - loss: 0.0521 - accuracy: 0.9756 - val_loss: 1.0816e-04 - val_accuracy: 1.0000\n",
      "Epoch 47/100\n",
      "3/3 [==============================] - 0s 7ms/step - loss: 0.0318 - accuracy: 0.9878 - val_loss: 1.0643e-04 - val_accuracy: 1.0000\n",
      "Epoch 48/100\n",
      "3/3 [==============================] - 0s 7ms/step - loss: 0.0730 - accuracy: 0.9695 - val_loss: 1.2214e-04 - val_accuracy: 1.0000\n",
      "Epoch 49/100\n",
      "3/3 [==============================] - 0s 7ms/step - loss: 0.0200 - accuracy: 1.0000 - val_loss: 1.6418e-04 - val_accuracy: 1.0000\n",
      "Epoch 50/100\n",
      "3/3 [==============================] - 0s 7ms/step - loss: 0.0333 - accuracy: 0.9878 - val_loss: 2.4840e-04 - val_accuracy: 1.0000\n",
      "Epoch 51/100\n",
      "3/3 [==============================] - 0s 7ms/step - loss: 0.0192 - accuracy: 0.9878 - val_loss: 2.9620e-04 - val_accuracy: 1.0000\n",
      "Epoch 52/100\n",
      "3/3 [==============================] - 0s 7ms/step - loss: 0.0285 - accuracy: 0.9878 - val_loss: 2.3518e-04 - val_accuracy: 1.0000\n"
     ]
    },
    {
     "data": {
      "text/plain": [
       "<tensorflow.python.keras.callbacks.History at 0x2e80efb4d90>"
      ]
     },
     "execution_count": 35,
     "metadata": {},
     "output_type": "execute_result"
    }
   ],
   "source": [
    "tensorboard = TensorBoard(log_dir=\"logs\")\n",
    "early_stopping = EarlyStopping(mode=\"min\", patience=5, restore_best_weights=True)\n",
    "\n",
    "batch_size = 64\n",
    "epochs = 100\n",
    "model.fit(data[\"X_train\"], data[\"y_train\"], epochs=epochs, batch_size=batch_size, validation_data=(data[\"X_valid\"], data[\"y_valid\"]),\n",
    "          callbacks=[tensorboard, early_stopping])"
   ]
  },
  {
   "cell_type": "code",
   "execution_count": 36,
   "metadata": {},
   "outputs": [],
   "source": [
    "model.save(\"results/model.h5\")"
   ]
  },
  {
   "cell_type": "code",
   "execution_count": 37,
   "metadata": {},
   "outputs": [
    {
     "name": "stdout",
     "output_type": "stream",
     "text": [
      "Evaluating the model using 21 samples...\n",
      "Loss: 0.2993\n",
      "Accuracy: 90.48%\n"
     ]
    }
   ],
   "source": [
    "print(f\"Evaluating the model using {len(data['X_test'])} samples...\")\n",
    "loss, accuracy = model.evaluate(data[\"X_test\"], data[\"y_test\"], verbose=0)\n",
    "print(f\"Loss: {loss:.4f}\")\n",
    "print(f\"Accuracy: {accuracy*100:.2f}%\")"
   ]
  },
  {
   "cell_type": "markdown",
   "metadata": {},
   "source": [
    "# Тестирование на пользовательском wav файле"
   ]
  },
  {
   "cell_type": "markdown",
   "metadata": {},
   "source": [
    "## Для теста модели запустить ЭТУ ячейку"
   ]
  },
  {
   "cell_type": "code",
   "execution_count": 10,
   "metadata": {},
   "outputs": [
    {
     "name": "stdout",
     "output_type": "stream",
     "text": [
      "Model: \"sequential_2\"\n",
      "_________________________________________________________________\n",
      "Layer (type)                 Output Shape              Param #   \n",
      "=================================================================\n",
      "dense_12 (Dense)             (None, 256)               33024     \n",
      "_________________________________________________________________\n",
      "dropout_10 (Dropout)         (None, 256)               0         \n",
      "_________________________________________________________________\n",
      "dense_13 (Dense)             (None, 256)               65792     \n",
      "_________________________________________________________________\n",
      "dropout_11 (Dropout)         (None, 256)               0         \n",
      "_________________________________________________________________\n",
      "dense_14 (Dense)             (None, 128)               32896     \n",
      "_________________________________________________________________\n",
      "dropout_12 (Dropout)         (None, 128)               0         \n",
      "_________________________________________________________________\n",
      "dense_15 (Dense)             (None, 128)               16512     \n",
      "_________________________________________________________________\n",
      "dropout_13 (Dropout)         (None, 128)               0         \n",
      "_________________________________________________________________\n",
      "dense_16 (Dense)             (None, 64)                8256      \n",
      "_________________________________________________________________\n",
      "dropout_14 (Dropout)         (None, 64)                0         \n",
      "_________________________________________________________________\n",
      "dense_17 (Dense)             (None, 1)                 65        \n",
      "=================================================================\n",
      "Total params: 156,545\n",
      "Trainable params: 156,545\n",
      "Non-trainable params: 0\n",
      "_________________________________________________________________\n",
      "Result: male\n",
      "Probabilities::: Male: 74.22%    Female: 25.78%\n"
     ]
    }
   ],
   "source": [
    "file = 'test_samples/proverka.wav'\n",
    "file = os.fspath(file)\n",
    "model = create_model()\n",
    "model.load_weights(\"results/model.h5\")\n",
    "features = extract_feature(file, mel=True).reshape(1, -1)\n",
    "male_prob = model.predict(features)[0][0]\n",
    "female_prob = 1 - male_prob\n",
    "gender = \"male\" if male_prob > female_prob else \"female\"\n",
    "print(\"Result:\", gender)\n",
    "print(f\"Probabilities::: Male: {male_prob*100:.2f}%    Female: {female_prob*100:.2f}%\")"
   ]
  }
 ],
 "metadata": {
  "kernelspec": {
   "display_name": "Python 3",
   "language": "python",
   "name": "python3"
  },
  "language_info": {
   "codemirror_mode": {
    "name": "ipython",
    "version": 3
   },
   "file_extension": ".py",
   "mimetype": "text/x-python",
   "name": "python",
   "nbconvert_exporter": "python",
   "pygments_lexer": "ipython3",
   "version": "3.8.3"
  }
 },
 "nbformat": 4,
 "nbformat_minor": 4
}
